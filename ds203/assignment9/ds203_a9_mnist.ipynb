{
  "nbformat": 4,
  "nbformat_minor": 0,
  "metadata": {
    "colab": {
      "name": "ds203_a9_mnist.ipynb",
      "provenance": [],
      "collapsed_sections": []
    },
    "kernelspec": {
      "name": "python3",
      "display_name": "Python 3"
    },
    "accelerator": "GPU"
  },
  "cells": [
    {
      "cell_type": "markdown",
      "metadata": {
        "id": "Aig5ewIJib0j"
      },
      "source": [
        "MNIST"
      ]
    },
    {
      "cell_type": "code",
      "metadata": {
        "id": "pm_yZL7sv_18"
      },
      "source": [
        "import numpy as np\n",
        "import torch\n",
        "import torch.utils.data as tud\n",
        "import torch.nn as tnn"
      ],
      "execution_count": 1,
      "outputs": []
    },
    {
      "cell_type": "code",
      "metadata": {
        "id": "K-Du4LgCapXw"
      },
      "source": [
        "import matplotlib.pyplot as plt"
      ],
      "execution_count": 2,
      "outputs": []
    },
    {
      "cell_type": "code",
      "metadata": {
        "id": "-pvzXKSkAZAJ"
      },
      "source": [
        "from copy import deepcopy as dcopy"
      ],
      "execution_count": 3,
      "outputs": []
    },
    {
      "cell_type": "code",
      "metadata": {
        "id": "0l63_yapibSR"
      },
      "source": [
        "import torchvision as tv\n",
        "import torchvision.datasets as tvds"
      ],
      "execution_count": 4,
      "outputs": []
    },
    {
      "cell_type": "code",
      "metadata": {
        "id": "X4sOyMXaiy_k"
      },
      "source": [
        "mnist_trainset = tvds.MNIST(root='./data', train=True, download=True, transform=tv.transforms.ToTensor())\n",
        "mnist_testset = tvds.MNIST(root='./data', train=False, download=True, transform=tv.transforms.ToTensor())"
      ],
      "execution_count": 5,
      "outputs": []
    },
    {
      "cell_type": "code",
      "metadata": {
        "id": "_IbqmqqRjBxP"
      },
      "source": [
        "train_set, val_set = tud.random_split(mnist_trainset, [50000,10000], generator=torch.Generator().manual_seed(0))"
      ],
      "execution_count": 6,
      "outputs": []
    },
    {
      "cell_type": "code",
      "metadata": {
        "id": "3rKIELnijGJQ"
      },
      "source": [
        "test_set=mnist_testset"
      ],
      "execution_count": 7,
      "outputs": []
    },
    {
      "cell_type": "code",
      "metadata": {
        "id": "c0pRIcm4jmlG"
      },
      "source": [
        "del mnist_testset, mnist_trainset"
      ],
      "execution_count": 8,
      "outputs": []
    },
    {
      "cell_type": "code",
      "metadata": {
        "id": "wqDxTUNCj-b6"
      },
      "source": [
        "# batch size increased for faster training\n",
        "train_loader = tud.DataLoader(train_set, batch_size=64, shuffle=True, drop_last=True)\n",
        "val_loader = tud.DataLoader(val_set, batch_size=10000, shuffle=True, drop_last=True)\n",
        "test_loader = tud.DataLoader(test_set, batch_size=10000, shuffle=True, drop_last=True)"
      ],
      "execution_count": 9,
      "outputs": []
    },
    {
      "cell_type": "code",
      "metadata": {
        "id": "fa50f_xLj-cE"
      },
      "source": [
        "class my_nn_2(tnn.Module):\n",
        "  def __init__(self, h=128, d_in=784, d_out=10):\n",
        "    super(my_nn_2, self).__init__()\n",
        "    self.linear1 = tnn.Linear(d_in, h)\n",
        "    self.linear2 = tnn.Linear(h, d_out)\n",
        "    # https://medium.com/@zhang_yang/understanding-cross-entropy-implementation-in-pytorch-softmax-log-softmax-nll-cross-entropy-416a2b200e34\n",
        "    # softmax + nll loss is worse than cross entropy loss\n",
        "\n",
        "  def forward(self, x):\n",
        "    h_relu = self.linear1(x).clamp(min=0)\n",
        "    y_pred = self.linear2(h_relu)\n",
        "    return y_pred"
      ],
      "execution_count": 10,
      "outputs": []
    },
    {
      "cell_type": "code",
      "metadata": {
        "id": "imzcKBXTj-cL"
      },
      "source": [
        "crit_bce = tnn.CrossEntropyLoss()\n",
        "crit_mse = tnn.MSELoss()"
      ],
      "execution_count": 11,
      "outputs": []
    },
    {
      "cell_type": "code",
      "metadata": {
        "id": "Sy055_mqj-cT"
      },
      "source": [
        "def fit(h=128, epochs=20, criterion=tnn.CrossEntropyLoss(), lr=1e-3):\n",
        "  model = my_nn_2(h)\n",
        "  opt = torch.optim.SGD(model.parameters(), lr=lr)\n",
        "  tlh=[]\n",
        "  tah=[]\n",
        "  vlh=[]\n",
        "  vah=[]\n",
        "  vl_min=10**10\n",
        "  for ep in range(epochs):\n",
        "    model.train()\n",
        "    training_loss=0\n",
        "    acc=0\n",
        "    for (idx, b) in enumerate(train_loader):\n",
        "      xb=b[0].reshape(-1,784).float()\n",
        "      yb=b[1]\n",
        "      yb_pred = model(xb)\n",
        "      loss=criterion(yb_pred, yb)\n",
        "      training_loss+=loss\n",
        "      acc+=torch.sum(torch.argmax(yb_pred, axis=1)==yb)\n",
        "      opt.zero_grad()\n",
        "      loss.backward()\n",
        "      opt.step()\n",
        "    tah.append(acc/50000)\n",
        "    tlh.append(training_loss/50000)\n",
        "    model.eval()\n",
        "    with torch.no_grad():\n",
        "      val_loss=0\n",
        "      acc=0\n",
        "      for (idx, b) in enumerate(val_loader):\n",
        "        xb=b[0].reshape(-1,784).float()\n",
        "        yb=b[1]\n",
        "        yb_pred = model(xb)\n",
        "        loss=criterion(yb_pred, yb)\n",
        "        acc+=torch.sum(torch.argmax(yb_pred, axis=1)==yb)\n",
        "        val_loss+=loss\n",
        "      vah.append(acc/10000)\n",
        "      vl=val_loss/64\n",
        "      if vl<vl_min:\n",
        "        best_model=dcopy(model)\n",
        "        vl_min=vl\n",
        "      vlh.append(vl)\n",
        "  return best_model, tlh, tah, vlh, vah"
      ],
      "execution_count": 12,
      "outputs": []
    },
    {
      "cell_type": "code",
      "metadata": {
        "id": "bZxYrsomk73l"
      },
      "source": [
        "model, tlh, tah, vlh, vah = fit()"
      ],
      "execution_count": 13,
      "outputs": []
    },
    {
      "cell_type": "code",
      "metadata": {
        "id": "CkDH3cKwTj98",
        "colab": {
          "base_uri": "https://localhost:8080/",
          "height": 265
        },
        "outputId": "d817790b-e23b-4c35-dd3b-097f501dc6fa"
      },
      "source": [
        "plt.plot(tlh, label=\"train loss\")\n",
        "plt.plot(vlh, label=\"validation loss\")\n",
        "plt.legend()\n",
        "plt.show()"
      ],
      "execution_count": 14,
      "outputs": [
        {
          "output_type": "display_data",
          "data": {
            "image/png": "[encoded data removed]",
            "text/plain": [
              "<Figure size 432x288 with 1 Axes>"
            ]
          },
          "metadata": {
            "tags": [],
            "needs_background": "light"
          }
        }
      ]
    },
    {
      "cell_type": "code",
      "metadata": {
        "id": "Sq78Qcu8Tj-M",
        "colab": {
          "base_uri": "https://localhost:8080/",
          "height": 266
        },
        "outputId": "76d6d6de-a643-4068-fa16-d83c36af1d0f"
      },
      "source": [
        "plt.plot(tah, label=\"train accuracy\")\n",
        "plt.plot(vah, label=\"validation accuracy\")\n",
        "plt.legend()\n",
        "plt.show()"
      ],
      "execution_count": 15,
      "outputs": [
        {
          "output_type": "display_data",
          "data": {
            "image/png": "[encoded data removed]",
            "text/plain": [
              "<Figure size 432x288 with 1 Axes>"
            ]
          },
          "metadata": {
            "tags": [],
            "needs_background": "light"
          }
        }
      ]
    },
    {
      "cell_type": "code",
      "metadata": {
        "id": "6gqkVL7-Tj-T"
      },
      "source": [
        "hl_sizes=[32,64,128,256,512]\n",
        "best_vl=[]\n",
        "for hl in hl_sizes:\n",
        "  _, tlh, tah, vlh, vah = fit(h=hl, epochs=20, lr=1e-3)\n",
        "  best_vl.append(np.min(vlh))"
      ],
      "execution_count": 16,
      "outputs": []
    },
    {
      "cell_type": "code",
      "metadata": {
        "id": "3aHY5RNoTj-Y",
        "colab": {
          "base_uri": "https://localhost:8080/",
          "height": 265
        },
        "outputId": "8db0ad0a-3f40-4ca3-eb9b-cf43e6514bec"
      },
      "source": [
        "plt.plot(hl_sizes, best_vl)\n",
        "plt.show()"
      ],
      "execution_count": 17,
      "outputs": [
        {
          "output_type": "display_data",
          "data": {
            "image/png": "[encoded data removed]",
            "text/plain": [
              "<Figure size 432x288 with 1 Axes>"
            ]
          },
          "metadata": {
            "tags": [],
            "needs_background": "light"
          }
        }
      ]
    },
    {
      "cell_type": "code",
      "metadata": {
        "id": "2Cpxt0ymTj-c"
      },
      "source": [
        "# h=512 gives best results"
      ],
      "execution_count": 18,
      "outputs": []
    },
    {
      "cell_type": "code",
      "metadata": {
        "id": "eGh8kRuFTj-g"
      },
      "source": [
        "lr_vals=[10**(i-5) for i in range(5)]\n",
        "best_vl=[]\n",
        "for lr in lr_vals:\n",
        "  _, tlh, tah, vlh, vah = fit(epochs=20, lr=lr)\n",
        "  best_vl.append(np.min(vlh))"
      ],
      "execution_count": 19,
      "outputs": []
    },
    {
      "cell_type": "code",
      "metadata": {
        "id": "M4riI5CITj-j",
        "colab": {
          "base_uri": "https://localhost:8080/",
          "height": 265
        },
        "outputId": "f5b3f9ad-26e2-4fa7-a4a1-62d8eac30a86"
      },
      "source": [
        "plt.plot(np.log10(lr_vals), best_vl)\n",
        "plt.xlabel = \"Learning rate as a power of 10\"\n",
        "plt.show()"
      ],
      "execution_count": 20,
      "outputs": [
        {
          "output_type": "display_data",
          "data": {
            "image/png": "[encoded data removed]",
            "text/plain": [
              "<Figure size 432x288 with 1 Axes>"
            ]
          },
          "metadata": {
            "tags": [],
            "needs_background": "light"
          }
        }
      ]
    },
    {
      "cell_type": "code",
      "metadata": {
        "id": "vuVxwoMZTj-m"
      },
      "source": [
        "# lr=0.1 gives best results"
      ],
      "execution_count": 21,
      "outputs": []
    },
    {
      "cell_type": "code",
      "metadata": {
        "id": "AtoKbAg_gcBU"
      },
      "source": [
        "full_test_loader = tud.DataLoader(test_set, batch_size=1500)\n",
        "for pts in full_test_loader:\n",
        "  test_pts=pts"
      ],
      "execution_count": 22,
      "outputs": []
    },
    {
      "cell_type": "code",
      "metadata": {
        "id": "A9VeT5fZxOLu"
      },
      "source": [
        "best_m, tlh, tah, vlh, vah = fit(h=512, epochs=20, criterion=crit_bce, lr=0.1)"
      ],
      "execution_count": 23,
      "outputs": []
    },
    {
      "cell_type": "code",
      "metadata": {
        "id": "i9_0XaAxg8Q3",
        "colab": {
          "base_uri": "https://localhost:8080/"
        },
        "outputId": "d1eb637e-4bb5-449e-9772-fea707a51f89"
      },
      "source": [
        "# mean loss\n",
        "label_pred = best_m(test_pts[0].reshape(-1,784).float())\n",
        "crit_bce(label_pred, test_pts[1])/64"
      ],
      "execution_count": 24,
      "outputs": [
        {
          "output_type": "execute_result",
          "data": {
            "text/plain": [
              "tensor(0.0010, grad_fn=<DivBackward0>)"
            ]
          },
          "metadata": {
            "tags": []
          },
          "execution_count": 24
        }
      ]
    },
    {
      "cell_type": "code",
      "metadata": {
        "id": "IjAzLdqEiCX0"
      },
      "source": [
        "label_pred=torch.argmax(label_pred, axis=1)"
      ],
      "execution_count": 25,
      "outputs": []
    },
    {
      "cell_type": "code",
      "metadata": {
        "id": "E97MYBs3Cl3u",
        "colab": {
          "base_uri": "https://localhost:8080/"
        },
        "outputId": "daf08fd4-3745-450c-8fde-0d0c1c380789"
      },
      "source": [
        "# accuracy\n",
        "print(torch.sum(label_pred==test_pts[1])/(label_pred.shape[0]))"
      ],
      "execution_count": 26,
      "outputs": [
        {
          "output_type": "stream",
          "text": [
            "tensor(0.9810)\n"
          ],
          "name": "stdout"
        }
      ]
    },
    {
      "cell_type": "code",
      "metadata": {
        "id": "PTDIiXcdyXEL"
      },
      "source": [
        "# very good test accuracy"
      ],
      "execution_count": 27,
      "outputs": []
    },
    {
      "cell_type": "code",
      "metadata": {
        "id": "z7HAUoWD300Q"
      },
      "source": [
        "class my_nn_3(tnn.Module):\n",
        "  def __init__(self, h=128, d_in=784, d_out=10):\n",
        "    super(my_nn_3, self).__init__()\n",
        "    self.linear1 = tnn.Linear(d_in, h)\n",
        "    self.dropout = tnn.Dropout(0.3)\n",
        "    self.linear2 = tnn.Linear(h, d_out)\n",
        "\n",
        "  def forward(self, x):\n",
        "    h_relu = self.linear1(x).clamp(min=0)\n",
        "    h_drop = self.dropout(h_relu)\n",
        "    y_pred = self.linear2(h_drop)\n",
        "    return y_pred"
      ],
      "execution_count": 31,
      "outputs": []
    },
    {
      "cell_type": "code",
      "metadata": {
        "id": "gjUUUNBA3tHm"
      },
      "source": [
        "def fit_2(h=512, epochs=20, criterion=tnn.CrossEntropyLoss(), lr=1e-1):\n",
        "  model = my_nn_3(h)\n",
        "  opt = torch.optim.SGD(model.parameters(), lr=lr)\n",
        "  tlh=[]\n",
        "  tah=[]\n",
        "  vlh=[]\n",
        "  vah=[]\n",
        "  vl_min=10**10\n",
        "  for ep in range(epochs):\n",
        "    model.train()\n",
        "    training_loss=0\n",
        "    acc=0\n",
        "    for (idx, b) in enumerate(train_loader):\n",
        "      xb=b[0].reshape(-1,784).float()\n",
        "      yb=b[1]\n",
        "      yb_pred = model(xb)\n",
        "      loss=criterion(yb_pred, yb)\n",
        "      training_loss+=loss\n",
        "      acc+=torch.sum(torch.argmax(yb_pred, axis=1)==yb)\n",
        "      opt.zero_grad()\n",
        "      loss.backward()\n",
        "      opt.step()\n",
        "    tah.append(acc/50000)\n",
        "    tlh.append(training_loss/50000)\n",
        "    model.eval()\n",
        "    with torch.no_grad():\n",
        "      val_loss=0\n",
        "      acc=0\n",
        "      for (idx, b) in enumerate(val_loader):\n",
        "        xb=b[0].reshape(-1,784).float()\n",
        "        yb=b[1]\n",
        "        yb_pred = model(xb)\n",
        "        loss=criterion(yb_pred, yb)\n",
        "        acc+=torch.sum(torch.argmax(yb_pred, axis=1)==yb)\n",
        "        val_loss+=loss\n",
        "      vah.append(acc/10000)\n",
        "      vl=val_loss/64\n",
        "      if vl<vl_min:\n",
        "        best_model=dcopy(model)\n",
        "        vl_min=vl\n",
        "      vlh.append(vl)\n",
        "  return best_model, tlh, tah, vlh, vah"
      ],
      "execution_count": 32,
      "outputs": []
    },
    {
      "cell_type": "code",
      "metadata": {
        "id": "7qrCTpSW4Yay"
      },
      "source": [
        "best_m, _, _, _, _ = fit_2()"
      ],
      "execution_count": 33,
      "outputs": []
    },
    {
      "cell_type": "code",
      "metadata": {
        "colab": {
          "base_uri": "https://localhost:8080/"
        },
        "id": "VRpJMmoW5Hzk",
        "outputId": "edfbd5db-5746-4e91-e6b9-01ccd914850a"
      },
      "source": [
        "best_m"
      ],
      "execution_count": 35,
      "outputs": [
        {
          "output_type": "execute_result",
          "data": {
            "text/plain": [
              "my_nn_3(\n",
              "  (linear1): Linear(in_features=784, out_features=512, bias=True)\n",
              "  (dropout): Dropout(p=0.3, inplace=False)\n",
              "  (linear2): Linear(in_features=512, out_features=10, bias=True)\n",
              ")"
            ]
          },
          "metadata": {
            "tags": []
          },
          "execution_count": 35
        }
      ]
    },
    {
      "cell_type": "code",
      "metadata": {
        "colab": {
          "base_uri": "https://localhost:8080/"
        },
        "id": "W1fVyXSo4dVW",
        "outputId": "4e61a19f-e1ae-4f07-d442-02fc9ff12997"
      },
      "source": [
        "label_pred = best_m(test_pts[0].reshape(-1,784).float())\n",
        "print(crit_bce(label_pred, test_pts[1])/64)\n",
        "label_pred=torch.argmax(label_pred, axis=1)\n",
        "print(torch.sum(label_pred==test_pts[1])/(label_pred.shape[0]))"
      ],
      "execution_count": 37,
      "outputs": [
        {
          "output_type": "stream",
          "text": [
            "tensor(0.0009, grad_fn=<DivBackward0>)\n",
            "tensor(0.9810)\n"
          ],
          "name": "stdout"
        }
      ]
    },
    {
      "cell_type": "code",
      "metadata": {
        "id": "gQJ8vR9p4-WC"
      },
      "source": [
        "# very similar results"
      ],
      "execution_count": null,
      "outputs": []
    }
  ]
}