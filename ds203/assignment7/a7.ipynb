{
 "cells": [
  {
   "cell_type": "code",
   "execution_count": 1,
   "metadata": {},
   "outputs": [],
   "source": [
    "import numpy as np\n",
    "import pandas as pd\n",
    "from sklearn.preprocessing import StandardScaler\n",
    "import sklearn.model_selection as ms"
   ]
  },
  {
   "cell_type": "code",
   "execution_count": 2,
   "metadata": {},
   "outputs": [],
   "source": [
    "df = pd.read_excel(\"Real estate valuation data set.xlsx\")"
   ]
  },
  {
   "cell_type": "code",
   "execution_count": 3,
   "metadata": {},
   "outputs": [
    {
     "data": {
      "text/html": [
       "<div>\n",
       "<style scoped>\n",
       "    .dataframe tbody tr th:only-of-type {\n",
       "        vertical-align: middle;\n",
       "    }\n",
       "\n",
       "    .dataframe tbody tr th {\n",
       "        vertical-align: top;\n",
       "    }\n",
       "\n",
       "    .dataframe thead th {\n",
       "        text-align: right;\n",
       "    }\n",
       "</style>\n",
       "<table border=\"1\" class=\"dataframe\">\n",
       "  <thead>\n",
       "    <tr style=\"text-align: right;\">\n",
       "      <th></th>\n",
       "      <th>No</th>\n",
       "      <th>X1 transaction date</th>\n",
       "      <th>X2 house age</th>\n",
       "      <th>X3 distance to the nearest MRT station</th>\n",
       "      <th>X4 number of convenience stores</th>\n",
       "      <th>X5 latitude</th>\n",
       "      <th>X6 longitude</th>\n",
       "      <th>Y house price of unit area</th>\n",
       "    </tr>\n",
       "  </thead>\n",
       "  <tbody>\n",
       "    <tr>\n",
       "      <th>0</th>\n",
       "      <td>1</td>\n",
       "      <td>2012.916667</td>\n",
       "      <td>32.0</td>\n",
       "      <td>84.87882</td>\n",
       "      <td>10</td>\n",
       "      <td>24.98298</td>\n",
       "      <td>121.54024</td>\n",
       "      <td>37.9</td>\n",
       "    </tr>\n",
       "    <tr>\n",
       "      <th>1</th>\n",
       "      <td>2</td>\n",
       "      <td>2012.916667</td>\n",
       "      <td>19.5</td>\n",
       "      <td>306.59470</td>\n",
       "      <td>9</td>\n",
       "      <td>24.98034</td>\n",
       "      <td>121.53951</td>\n",
       "      <td>42.2</td>\n",
       "    </tr>\n",
       "    <tr>\n",
       "      <th>2</th>\n",
       "      <td>3</td>\n",
       "      <td>2013.583333</td>\n",
       "      <td>13.3</td>\n",
       "      <td>561.98450</td>\n",
       "      <td>5</td>\n",
       "      <td>24.98746</td>\n",
       "      <td>121.54391</td>\n",
       "      <td>47.3</td>\n",
       "    </tr>\n",
       "    <tr>\n",
       "      <th>3</th>\n",
       "      <td>4</td>\n",
       "      <td>2013.500000</td>\n",
       "      <td>13.3</td>\n",
       "      <td>561.98450</td>\n",
       "      <td>5</td>\n",
       "      <td>24.98746</td>\n",
       "      <td>121.54391</td>\n",
       "      <td>54.8</td>\n",
       "    </tr>\n",
       "    <tr>\n",
       "      <th>4</th>\n",
       "      <td>5</td>\n",
       "      <td>2012.833333</td>\n",
       "      <td>5.0</td>\n",
       "      <td>390.56840</td>\n",
       "      <td>5</td>\n",
       "      <td>24.97937</td>\n",
       "      <td>121.54245</td>\n",
       "      <td>43.1</td>\n",
       "    </tr>\n",
       "    <tr>\n",
       "      <th>...</th>\n",
       "      <td>...</td>\n",
       "      <td>...</td>\n",
       "      <td>...</td>\n",
       "      <td>...</td>\n",
       "      <td>...</td>\n",
       "      <td>...</td>\n",
       "      <td>...</td>\n",
       "      <td>...</td>\n",
       "    </tr>\n",
       "    <tr>\n",
       "      <th>409</th>\n",
       "      <td>410</td>\n",
       "      <td>2013.000000</td>\n",
       "      <td>13.7</td>\n",
       "      <td>4082.01500</td>\n",
       "      <td>0</td>\n",
       "      <td>24.94155</td>\n",
       "      <td>121.50381</td>\n",
       "      <td>15.4</td>\n",
       "    </tr>\n",
       "    <tr>\n",
       "      <th>410</th>\n",
       "      <td>411</td>\n",
       "      <td>2012.666667</td>\n",
       "      <td>5.6</td>\n",
       "      <td>90.45606</td>\n",
       "      <td>9</td>\n",
       "      <td>24.97433</td>\n",
       "      <td>121.54310</td>\n",
       "      <td>50.0</td>\n",
       "    </tr>\n",
       "    <tr>\n",
       "      <th>411</th>\n",
       "      <td>412</td>\n",
       "      <td>2013.250000</td>\n",
       "      <td>18.8</td>\n",
       "      <td>390.96960</td>\n",
       "      <td>7</td>\n",
       "      <td>24.97923</td>\n",
       "      <td>121.53986</td>\n",
       "      <td>40.6</td>\n",
       "    </tr>\n",
       "    <tr>\n",
       "      <th>412</th>\n",
       "      <td>413</td>\n",
       "      <td>2013.000000</td>\n",
       "      <td>8.1</td>\n",
       "      <td>104.81010</td>\n",
       "      <td>5</td>\n",
       "      <td>24.96674</td>\n",
       "      <td>121.54067</td>\n",
       "      <td>52.5</td>\n",
       "    </tr>\n",
       "    <tr>\n",
       "      <th>413</th>\n",
       "      <td>414</td>\n",
       "      <td>2013.500000</td>\n",
       "      <td>6.5</td>\n",
       "      <td>90.45606</td>\n",
       "      <td>9</td>\n",
       "      <td>24.97433</td>\n",
       "      <td>121.54310</td>\n",
       "      <td>63.9</td>\n",
       "    </tr>\n",
       "  </tbody>\n",
       "</table>\n",
       "<p>414 rows × 8 columns</p>\n",
       "</div>"
      ],
      "text/plain": [
       "      No  X1 transaction date  X2 house age  \\\n",
       "0      1          2012.916667          32.0   \n",
       "1      2          2012.916667          19.5   \n",
       "2      3          2013.583333          13.3   \n",
       "3      4          2013.500000          13.3   \n",
       "4      5          2012.833333           5.0   \n",
       "..   ...                  ...           ...   \n",
       "409  410          2013.000000          13.7   \n",
       "410  411          2012.666667           5.6   \n",
       "411  412          2013.250000          18.8   \n",
       "412  413          2013.000000           8.1   \n",
       "413  414          2013.500000           6.5   \n",
       "\n",
       "     X3 distance to the nearest MRT station  X4 number of convenience stores  \\\n",
       "0                                  84.87882                               10   \n",
       "1                                 306.59470                                9   \n",
       "2                                 561.98450                                5   \n",
       "3                                 561.98450                                5   \n",
       "4                                 390.56840                                5   \n",
       "..                                      ...                              ...   \n",
       "409                              4082.01500                                0   \n",
       "410                                90.45606                                9   \n",
       "411                               390.96960                                7   \n",
       "412                               104.81010                                5   \n",
       "413                                90.45606                                9   \n",
       "\n",
       "     X5 latitude  X6 longitude  Y house price of unit area  \n",
       "0       24.98298     121.54024                        37.9  \n",
       "1       24.98034     121.53951                        42.2  \n",
       "2       24.98746     121.54391                        47.3  \n",
       "3       24.98746     121.54391                        54.8  \n",
       "4       24.97937     121.54245                        43.1  \n",
       "..           ...           ...                         ...  \n",
       "409     24.94155     121.50381                        15.4  \n",
       "410     24.97433     121.54310                        50.0  \n",
       "411     24.97923     121.53986                        40.6  \n",
       "412     24.96674     121.54067                        52.5  \n",
       "413     24.97433     121.54310                        63.9  \n",
       "\n",
       "[414 rows x 8 columns]"
      ]
     },
     "execution_count": 3,
     "metadata": {},
     "output_type": "execute_result"
    }
   ],
   "source": [
    "df"
   ]
  },
  {
   "cell_type": "code",
   "execution_count": 4,
   "metadata": {},
   "outputs": [
    {
     "data": {
      "text/plain": [
       "No                                        0\n",
       "X1 transaction date                       0\n",
       "X2 house age                              0\n",
       "X3 distance to the nearest MRT station    0\n",
       "X4 number of convenience stores           0\n",
       "X5 latitude                               0\n",
       "X6 longitude                              0\n",
       "Y house price of unit area                0\n",
       "dtype: int64"
      ]
     },
     "execution_count": 4,
     "metadata": {},
     "output_type": "execute_result"
    }
   ],
   "source": [
    "# checking for missing data\n",
    "df.isnull().sum()"
   ]
  },
  {
   "cell_type": "code",
   "execution_count": 5,
   "metadata": {},
   "outputs": [],
   "source": [
    "# preprocessing transaction_date\n",
    "df[\"X1.1 transaction year\"] = df[\"X1 transaction date\"].astype(int)\n",
    "df[\"X1.1 transaction month\"] = (df[\"X1 transaction date\"] - df[\"X1.1 transaction year\"])*12"
   ]
  },
  {
   "cell_type": "code",
   "execution_count": 6,
   "metadata": {},
   "outputs": [],
   "source": [
    "# separating Y\n",
    "df_y = df[\"Y house price of unit area\"]"
   ]
  },
  {
   "cell_type": "code",
   "execution_count": 7,
   "metadata": {},
   "outputs": [],
   "source": [
    "# dropping redundant cols\n",
    "df.drop([\"No\", \"X1 transaction date\", \"Y house price of unit area\"], axis=1, inplace=True)"
   ]
  },
  {
   "cell_type": "code",
   "execution_count": 8,
   "metadata": {},
   "outputs": [],
   "source": [
    "# split into train and test sets\n",
    "train_size=0.8\n",
    "X_train, X_test, y_train, y_test = ms.train_test_split(df.to_numpy(), df_y.to_numpy(), train_size=train_size)"
   ]
  },
  {
   "cell_type": "code",
   "execution_count": 9,
   "metadata": {},
   "outputs": [],
   "source": [
    "# fit normalizer on training set and use it to transform test set\n",
    "normalizer = StandardScaler()  \n",
    "X_train_norm = normalizer.fit_transform(X_train)\n",
    "X_test_norm = normalizer.transform(X_test)"
   ]
  },
  {
   "cell_type": "code",
   "execution_count": 10,
   "metadata": {},
   "outputs": [],
   "source": [
    "import sklearn.linear_model as lm\n",
    "from sklearn.metrics import r2_score, mean_squared_error"
   ]
  },
  {
   "cell_type": "code",
   "execution_count": 11,
   "metadata": {},
   "outputs": [
    {
     "name": "stdout",
     "output_type": "stream",
     "text": [
      "Columns: ['X2 house age' 'X3 distance to the nearest MRT station'\n",
      " 'X4 number of convenience stores' 'X5 latitude' 'X6 longitude'\n",
      " 'X1.1 transaction year' 'X1.1 transaction month']\n",
      "Coefficients: [-2.58221947e-01 -4.51571768e-03  1.21477518e+00  2.30855210e+02\n",
      " -2.45824236e+01  5.13674736e+00  3.71872747e-01]\n",
      "Intercept: -13074.892844773127\n"
     ]
    }
   ],
   "source": [
    "lin_reg = lm.LinearRegression()\n",
    "lin_reg.fit(X_train, y_train)\n",
    "print(\"Columns:\", df.columns.values)\n",
    "print(\"Coefficients:\", lin_reg.coef_)\n",
    "print(\"Intercept:\", lin_reg.intercept_)"
   ]
  },
  {
   "cell_type": "code",
   "execution_count": 12,
   "metadata": {},
   "outputs": [
    {
     "name": "stdout",
     "output_type": "stream",
     "text": [
      "[13.3185523  39.47737646 45.55638984 43.7231895  40.34808506 43.88312597\n",
      " 24.52549658 31.36238444 47.02222508 34.56499701 43.81471813 42.7186556\n",
      " 43.64332877 47.28164017 33.12678626 21.69634199 55.33319131 29.06388189\n",
      " 42.32391755 38.44803778 33.52896817 43.11390844 36.28150146 46.17836931\n",
      " 37.63404653 44.91134026 44.55994785 30.98965602 13.64642502 48.56022577\n",
      " 48.2778044  46.95428219 43.53197461 12.46061353 33.96786336 31.51509141\n",
      " 43.60192772 33.81716442 46.10596562 50.28882189 43.99576047 53.74105094\n",
      " 40.48413426 36.32771041 37.65388882 39.52653231 52.90718197 43.21374217\n",
      " 44.7677237  45.2664379  33.82839296 37.75010705 33.25347258 36.28150146\n",
      " 46.17479852 46.94961745 30.45906397 38.90333979 36.9620275  45.11227321\n",
      " 50.59277799 32.64376178 30.60329917 37.38217011 26.0137286  44.0894281\n",
      " 54.17523834 53.74105094 13.3185523  45.73409257 39.31359303 47.38372123\n",
      " 47.3919769  20.83609097 42.46962388 41.98521648 45.337319   40.5659927\n",
      " 23.05183541 15.1404946  43.56155511 48.96990565 41.91702901]\n"
     ]
    }
   ],
   "source": [
    "y_pred = lin_reg.predict(X_test)\n",
    "print(y_pred)"
   ]
  },
  {
   "cell_type": "code",
   "execution_count": 13,
   "metadata": {},
   "outputs": [
    {
     "name": "stdout",
     "output_type": "stream",
     "text": [
      "R2 score: 0.6457451447859726 MSE: 46.9143072983629\n"
     ]
    }
   ],
   "source": [
    "print(\"R2 score:\", r2_score(y_test, y_pred), \"MSE:\", mean_squared_error(y_test, y_pred))"
   ]
  },
  {
   "cell_type": "code",
   "execution_count": 14,
   "metadata": {},
   "outputs": [],
   "source": [
    "# combining into one function\n",
    "def train_lin_reg(df, df_y, train_size):\n",
    "    X_train, X_test, y_train, y_test = ms.train_test_split(df.to_numpy(), df_y.to_numpy(), train_size=train_size)\n",
    "    normalizer = StandardScaler()  \n",
    "    X_train_norm = normalizer.fit_transform(X_train)\n",
    "    X_test_norm = normalizer.transform(X_test)\n",
    "    lin_reg = lm.LinearRegression()\n",
    "    lin_reg.fit(X_train, y_train)\n",
    "    y_pred = lin_reg.predict(X_test)\n",
    "    print(\"R2 score:\", r2_score(y_test, y_pred), \"MSE:\", mean_squared_error(y_test, y_pred))"
   ]
  },
  {
   "cell_type": "code",
   "execution_count": 15,
   "metadata": {},
   "outputs": [
    {
     "name": "stdout",
     "output_type": "stream",
     "text": [
      "R2 score: 0.6416421836758442 MSE: 68.89969130489158\n",
      "\n",
      "R2 score: 0.5327204305933325 MSE: 98.3995106004715\n"
     ]
    }
   ],
   "source": [
    "train_lin_reg(df, df_y, train_size=0.8)\n",
    "print()\n",
    "train_lin_reg(df.drop([\"X5 latitude\", \"X6 longitude\"], axis=1), df_y, train_size=0.8)"
   ]
  },
  {
   "cell_type": "code",
   "execution_count": 16,
   "metadata": {},
   "outputs": [],
   "source": [
    "# dropping X5 and X6 worsens performance\n",
    "# so we keep them"
   ]
  },
  {
   "cell_type": "code",
   "execution_count": 17,
   "metadata": {},
   "outputs": [
    {
     "name": "stdout",
     "output_type": "stream",
     "text": [
      "0.6 :\n",
      "R2 score: 0.49643792794562636 MSE: 95.98404111275615\n",
      "\n",
      "0.7 :\n",
      "R2 score: 0.6340104800770886 MSE: 63.863748493527886\n",
      "\n",
      "0.9 :\n",
      "R2 score: 0.6166874671319 MSE: 73.66259491190655\n",
      "\n"
     ]
    }
   ],
   "source": [
    "train_sizes=[0.6, 0.7, 0.9]\n",
    "for ts in train_sizes:\n",
    "    print(ts, \":\")\n",
    "    train_lin_reg(df, df_y, train_size=ts)\n",
    "    print()"
   ]
  },
  {
   "cell_type": "code",
   "execution_count": 18,
   "metadata": {},
   "outputs": [],
   "source": [
    "# 0.7 does better than 0.6 and 0.9\n",
    "# it does slightly worse than 0.8"
   ]
  },
  {
   "cell_type": "code",
   "execution_count": 19,
   "metadata": {},
   "outputs": [],
   "source": [
    "def train_ridge_reg(df, df_y, lam, train_size=0.8):\n",
    "    X_train, X_test, y_train, y_test = ms.train_test_split(df.to_numpy(), df_y.to_numpy(), train_size=train_size)\n",
    "    normalizer = StandardScaler()  \n",
    "    X_train_norm = normalizer.fit_transform(X_train)\n",
    "    X_test_norm = normalizer.transform(X_test)\n",
    "    ridge_reg = lm.Ridge(alpha = lam)\n",
    "    ridge_reg.fit(X_train, y_train)\n",
    "    y_pred = ridge_reg.predict(X_test)\n",
    "    print(\"R2 score:\", r2_score(y_test, y_pred), \"MSE:\", mean_squared_error(y_test, y_pred))"
   ]
  },
  {
   "cell_type": "code",
   "execution_count": 27,
   "metadata": {},
   "outputs": [
    {
     "name": "stdout",
     "output_type": "stream",
     "text": [
      "0.001\n",
      "R2 score: 0.5824983028894115 MSE: 73.96154378892558\n",
      "\n",
      "0.005\n",
      "R2 score: 0.34800313645632885 MSE: 154.16714655409\n",
      "\n",
      "0.01\n",
      "R2 score: 0.6338252820322119 MSE: 70.3278480109657\n",
      "\n",
      "0.05\n",
      "R2 score: 0.5599216192160328 MSE: 74.988225386308\n",
      "\n",
      "0.1\n",
      "R2 score: 0.4166754099016253 MSE: 87.39604743453768\n",
      "\n",
      "0.5\n",
      "R2 score: 0.41543610022323907 MSE: 108.40595729187505\n",
      "\n"
     ]
    }
   ],
   "source": [
    "lam_vals= [0.001, 0.005, 0.01, 0.05, 0.1, 0.5]\n",
    "for lam in lam_vals:\n",
    "    print(lam)\n",
    "    train_ridge_reg(df, df_y, lam=lam)\n",
    "    print()"
   ]
  },
  {
   "cell_type": "code",
   "execution_count": 28,
   "metadata": {},
   "outputs": [],
   "source": [
    "# 0.01 is best value for ridge regression"
   ]
  },
  {
   "cell_type": "code",
   "execution_count": 22,
   "metadata": {},
   "outputs": [],
   "source": [
    "def train_lasso_reg(df, df_y, lam, train_size=0.8):\n",
    "    X_train, X_test, y_train, y_test = ms.train_test_split(df.to_numpy(), df_y.to_numpy(), train_size=train_size)\n",
    "    normalizer = StandardScaler()  \n",
    "    X_train_norm = normalizer.fit_transform(X_train)\n",
    "    X_test_norm = normalizer.transform(X_test)\n",
    "    lasso_reg = lm.Lasso(alpha = lam)\n",
    "    lasso_reg.fit(X_train, y_train)\n",
    "    y_pred = lasso_reg.predict(X_test)\n",
    "    print(\"R2 score:\", r2_score(y_test, y_pred), \"MSE:\", mean_squared_error(y_test, y_pred))"
   ]
  },
  {
   "cell_type": "code",
   "execution_count": 23,
   "metadata": {},
   "outputs": [
    {
     "name": "stdout",
     "output_type": "stream",
     "text": [
      "0.001\n",
      "R2 score: 0.6069307256961058 MSE: 62.92275195490614\n",
      "\n",
      "0.005\n",
      "R2 score: 0.5029159378642627 MSE: 120.6968404225883\n",
      "\n",
      "0.01\n",
      "R2 score: 0.6010451673716766 MSE: 62.71195858274365\n",
      "\n",
      "0.05\n",
      "R2 score: 0.45529417666985594 MSE: 139.15997938789687\n",
      "\n",
      "0.1\n",
      "R2 score: 0.652587592774606 MSE: 51.90151847932529\n",
      "\n",
      "0.5\n",
      "R2 score: 0.6192201202875424 MSE: 61.595090420832896\n",
      "\n"
     ]
    }
   ],
   "source": [
    "lam_vals= [0.001, 0.005, 0.01, 0.05, 0.1, 0.5]\n",
    "for lam in lam_vals:\n",
    "    print(lam)\n",
    "    train_lasso_reg(df, df_y, lam=lam)\n",
    "    print()"
   ]
  },
  {
   "cell_type": "code",
   "execution_count": 24,
   "metadata": {},
   "outputs": [],
   "source": [
    "# 0.1 is best value for lasso regression"
   ]
  }
 ],
 "metadata": {
  "kernelspec": {
   "display_name": "venv01",
   "language": "python",
   "name": "venv01"
  },
  "language_info": {
   "codemirror_mode": {
    "name": "ipython",
    "version": 3
   },
   "file_extension": ".py",
   "mimetype": "text/x-python",
   "name": "python",
   "nbconvert_exporter": "python",
   "pygments_lexer": "ipython3",
   "version": "3.8.2"
  }
 },
 "nbformat": 4,
 "nbformat_minor": 4
}
