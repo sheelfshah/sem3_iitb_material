{
  "nbformat": 4,
  "nbformat_minor": 0,
  "metadata": {
    "colab": {
      "name": "ds203_a8q123.ipynb",
      "provenance": [],
      "collapsed_sections": []
    },
    "kernelspec": {
      "name": "python3",
      "display_name": "Python 3"
    }
  },
  "cells": [
    {
      "cell_type": "markdown",
      "metadata": {
        "id": "MnkRmMl5VBDZ"
      },
      "source": [
        "Q1\n",
        "\n",
        "a. Dimension reduction\n",
        "b. Clustering\n",
        "c. Regression\n",
        "d. Classification"
      ]
    },
    {
      "cell_type": "markdown",
      "metadata": {
        "id": "JgPEKkXaWUe6"
      },
      "source": [
        "**SVM-C with Gaussian kernel**\n",
        "\n",
        "Target output type: one-hot\n",
        "\n",
        "Parameters: support vectors, their coefficients, and intercepts\n",
        "\n",
        "Hyperparameters: C (regularization), gamma (kernel coefficient), tol (tolerance)\n",
        "\n",
        "Hyperparameter range: 0.5 to 2, 'scale' or 'auto', 1e-3 to 1e-5\n",
        "\n",
        "sklearn commands: s=sklearn.svm.SVC(); s.fit(X, y); s.predict(X_)\n",
        "\n",
        "\n",
        "**SVM-R with Gaussian kernel**\n",
        "\n",
        "Target output type: float\n",
        "\n",
        "Parameters: support vectors, their coefficients, and intercepts\n",
        "\n",
        "Hyperparameters: C (regularization), gamma (kernel coefficient), tol (tolerance), epsilon\n",
        "\n",
        "Hyperparameter range: 0.5 to 2, 'scale' or 'auto', 1e-3 to 1e-5, 0.1 to 0.01\n",
        "\n",
        "sklearn commands: r=sklearn.svm.SVR(); r.fir(X, y); r.predict(X_)\n",
        "\n",
        "**NN with one hidden layer (C)**\n",
        "\n",
        "Target output type: one hot vector\n",
        "\n",
        "Parameters: weight and bias matrices for each neuron\n",
        "\n",
        "Hyperparameters: hidden_layer_size, activation, alpha(regularization)\n",
        "\n",
        "Hyperparameter range: 20 to 500, 'relu' or 'logistic' or 'tanh', 0.0001 to 1\n",
        "\n",
        "sklearn commands: clf = sklearn.neural_network.MLPClassifier(); clf.fit(X, y); clf.predict(X_)\n",
        "\n",
        "**NN with one hidden layer (R)**\n",
        "\n",
        "Target output type: float\n",
        "\n",
        "Parameters: weight and bias matrices for each neuron\n",
        "\n",
        "Hyperparameters: hidden_layer_size, activation, alpha(regularization)\n",
        "\n",
        "Hyperparameter range: 20 to 500, 'relu' or 'logistic' or 'tanh', 0.0001 to 1\n",
        "\n",
        "sklearn commands: clf = sklearn.neural_network.MLPRegressor(); clf.fit(X, y); clf.predict(X_)\n",
        "\n",
        "**Random forest (R)**\n",
        "\n",
        "Target output type: float\n",
        "\n",
        "Parameters: A group of decision trees and their features/splits\n",
        "\n",
        "Hyperparameters: n_estimators(number of trees), min_impurity_decrease, max_features(to be considered for split)\n",
        "\n",
        "Hyperparameter range: 5 to 1000, 0 to 1, order of n (but lesser)\n",
        "\n",
        "sklearn commands: r = sklearn.ensemble.RandomForestRegressor(); r.fit(X, y); r.predict(X_)\n",
        "\n",
        "**Random forest (C)**\n",
        "\n",
        "Target output type: one hot vector\n",
        "\n",
        "Parameters: A group of decision trees and their features/splits\n",
        "\n",
        "Hyperparameters: n_estimators(number of trees), min_impurity_decrease, max_features(to be considered for split)\n",
        "\n",
        "Hyperparameter range: 5 to 1000, 0 to 1, order of n (but lesser)\n",
        "\n",
        "sklearn commands: c = sklearn.ensemble.RandomForestClassifier(); c.fit(X, y); c.predict(X_)\n",
        "\n",
        "**k-means**\n",
        "\n",
        "Target output type: integer(index of cluster)\n",
        "\n",
        "Parameters: cluster centers\n",
        "\n",
        "Hyperparameters: n_clusters, init(initial center positions)\n",
        "\n",
        "Hyperparameter range: 2 to 20, depends on data\n",
        "\n",
        "sklearn commands: k = sklearn.cluster.KMeans(); k.fit(X); k.predict(X_)\n",
        "\n",
        "**DBSCAN**\n",
        "\n",
        "Target output type: integer(cluster label and -1 for noisy output)\n",
        "\n",
        "Parameters: core points\n",
        "\n",
        "Hyperparameters: eps(max distance between samples to classify them as neighbors), min_samples(min number of neighbors to classify point as a core point)\n",
        "\n",
        "Hyperparameter range: 0.1 to 5, depends on dataset\n",
        "\n",
        "sklearn commands: d = sklearn.cluster.DBSCAN(); d.fit(X); d.predict(X_)\n",
        "\n",
        "**PCA**\n",
        "\n",
        "Target output type: none\n",
        "\n",
        "Parameters: basis of the new vector space (on which current space will be projected)\n",
        "\n",
        "Hyperparameters: num_components\n",
        "\n",
        "Hyperparameter range: 1 to 3 for data visualization. Of the order of n/10 if some other framework has to be fit upon the data\n",
        "\n",
        "sklearn commands: pca=sklearn.decomposition.PCA(n_components=2); X_train_ = pca.fit_transform(X_train); X_test_ = pca.transform(X_test);\n",
        "\n",
        "**Kernel PCA**\n",
        "\n",
        "Target output type: none\n",
        "\n",
        "Parameters: basis of the new vector space (on which current space will be projected)\n",
        "\n",
        "Hyperparameters: num_components, gamma\n",
        "\n",
        "Hyperparameter range: order of n/10, order of 1/num_features\n",
        "\n",
        "sklearn commands: kpca=sklearn.decomposition.KernelPCA(); X_train_ = kpca.fit_transform(X_train); X_test_ = kpca.transform(X_test);"
      ]
    },
    {
      "cell_type": "code",
      "metadata": {
        "id": "Mh1m-Zt6YAGC"
      },
      "source": [
        "import numpy as np\n",
        "import pandas as pd"
      ],
      "execution_count": null,
      "outputs": []
    },
    {
      "cell_type": "code",
      "metadata": {
        "id": "IvkPTyd_kt6C"
      },
      "source": [
        "df = pd.read_csv(\"/content/drive/My Drive/ds203_assignment/SeoulBikeData.csv\", encoding='latin1')"
      ],
      "execution_count": null,
      "outputs": []
    },
    {
      "cell_type": "code",
      "metadata": {
        "id": "EJD969BxmZlM",
        "outputId": "c9568715-40b2-4079-8614-ce9857bc80bb",
        "colab": {
          "base_uri": "https://localhost:8080/",
          "height": 343
        }
      },
      "source": [
        "df.head()"
      ],
      "execution_count": null,
      "outputs": [
        {
          "output_type": "execute_result",
          "data": {
            "text/html": [
              "<div>\n",
              "<style scoped>\n",
              "    .dataframe tbody tr th:only-of-type {\n",
              "        vertical-align: middle;\n",
              "    }\n",
              "\n",
              "    .dataframe tbody tr th {\n",
              "        vertical-align: top;\n",
              "    }\n",
              "\n",
              "    .dataframe thead th {\n",
              "        text-align: right;\n",
              "    }\n",
              "</style>\n",
              "<table border=\"1\" class=\"dataframe\">\n",
              "  <thead>\n",
              "    <tr style=\"text-align: right;\">\n",
              "      <th></th>\n",
              "      <th>Date</th>\n",
              "      <th>Rented Bike Count</th>\n",
              "      <th>Hour</th>\n",
              "      <th>Temperature(°C)</th>\n",
              "      <th>Humidity(%)</th>\n",
              "      <th>Wind speed (m/s)</th>\n",
              "      <th>Visibility (10m)</th>\n",
              "      <th>Dew point temperature(°C)</th>\n",
              "      <th>Solar Radiation (MJ/m2)</th>\n",
              "      <th>Rainfall(mm)</th>\n",
              "      <th>Snowfall (cm)</th>\n",
              "      <th>Seasons</th>\n",
              "      <th>Holiday</th>\n",
              "      <th>Functioning Day</th>\n",
              "    </tr>\n",
              "  </thead>\n",
              "  <tbody>\n",
              "    <tr>\n",
              "      <th>0</th>\n",
              "      <td>01/12/2017</td>\n",
              "      <td>254</td>\n",
              "      <td>0</td>\n",
              "      <td>-5.2</td>\n",
              "      <td>37</td>\n",
              "      <td>2.2</td>\n",
              "      <td>2000</td>\n",
              "      <td>-17.6</td>\n",
              "      <td>0.0</td>\n",
              "      <td>0.0</td>\n",
              "      <td>0.0</td>\n",
              "      <td>Winter</td>\n",
              "      <td>No Holiday</td>\n",
              "      <td>Yes</td>\n",
              "    </tr>\n",
              "    <tr>\n",
              "      <th>1</th>\n",
              "      <td>01/12/2017</td>\n",
              "      <td>204</td>\n",
              "      <td>1</td>\n",
              "      <td>-5.5</td>\n",
              "      <td>38</td>\n",
              "      <td>0.8</td>\n",
              "      <td>2000</td>\n",
              "      <td>-17.6</td>\n",
              "      <td>0.0</td>\n",
              "      <td>0.0</td>\n",
              "      <td>0.0</td>\n",
              "      <td>Winter</td>\n",
              "      <td>No Holiday</td>\n",
              "      <td>Yes</td>\n",
              "    </tr>\n",
              "    <tr>\n",
              "      <th>2</th>\n",
              "      <td>01/12/2017</td>\n",
              "      <td>173</td>\n",
              "      <td>2</td>\n",
              "      <td>-6.0</td>\n",
              "      <td>39</td>\n",
              "      <td>1.0</td>\n",
              "      <td>2000</td>\n",
              "      <td>-17.7</td>\n",
              "      <td>0.0</td>\n",
              "      <td>0.0</td>\n",
              "      <td>0.0</td>\n",
              "      <td>Winter</td>\n",
              "      <td>No Holiday</td>\n",
              "      <td>Yes</td>\n",
              "    </tr>\n",
              "    <tr>\n",
              "      <th>3</th>\n",
              "      <td>01/12/2017</td>\n",
              "      <td>107</td>\n",
              "      <td>3</td>\n",
              "      <td>-6.2</td>\n",
              "      <td>40</td>\n",
              "      <td>0.9</td>\n",
              "      <td>2000</td>\n",
              "      <td>-17.6</td>\n",
              "      <td>0.0</td>\n",
              "      <td>0.0</td>\n",
              "      <td>0.0</td>\n",
              "      <td>Winter</td>\n",
              "      <td>No Holiday</td>\n",
              "      <td>Yes</td>\n",
              "    </tr>\n",
              "    <tr>\n",
              "      <th>4</th>\n",
              "      <td>01/12/2017</td>\n",
              "      <td>78</td>\n",
              "      <td>4</td>\n",
              "      <td>-6.0</td>\n",
              "      <td>36</td>\n",
              "      <td>2.3</td>\n",
              "      <td>2000</td>\n",
              "      <td>-18.6</td>\n",
              "      <td>0.0</td>\n",
              "      <td>0.0</td>\n",
              "      <td>0.0</td>\n",
              "      <td>Winter</td>\n",
              "      <td>No Holiday</td>\n",
              "      <td>Yes</td>\n",
              "    </tr>\n",
              "  </tbody>\n",
              "</table>\n",
              "</div>"
            ],
            "text/plain": [
              "         Date  Rented Bike Count  Hour  ...  Seasons     Holiday  Functioning Day\n",
              "0  01/12/2017                254     0  ...   Winter  No Holiday              Yes\n",
              "1  01/12/2017                204     1  ...   Winter  No Holiday              Yes\n",
              "2  01/12/2017                173     2  ...   Winter  No Holiday              Yes\n",
              "3  01/12/2017                107     3  ...   Winter  No Holiday              Yes\n",
              "4  01/12/2017                 78     4  ...   Winter  No Holiday              Yes\n",
              "\n",
              "[5 rows x 14 columns]"
            ]
          },
          "metadata": {
            "tags": []
          },
          "execution_count": 3
        }
      ]
    },
    {
      "cell_type": "code",
      "metadata": {
        "id": "LPu3eYhzkzET"
      },
      "source": [
        "# this is supervised learning problem and a continuous(integer) variable has to be predicted\n",
        "# Rented Bike Count has to be predicted\n",
        "# performance will be measured by r2_score\n",
        "# we will drop date, as season helps account for it\n",
        "# we will also drop dew point temperature as it is irrelevant\n",
        "# all other variables (after apt preprocessing) will be used in the prediction\n",
        "# i.e. all other variables are usable"
      ],
      "execution_count": null,
      "outputs": []
    },
    {
      "cell_type": "code",
      "metadata": {
        "id": "ukUW5rp9mXtO",
        "outputId": "3b166369-d39d-4554-ad1f-636d6a67c37b",
        "colab": {
          "base_uri": "https://localhost:8080/"
        }
      },
      "source": [
        "df.isnull().sum()"
      ],
      "execution_count": null,
      "outputs": [
        {
          "output_type": "execute_result",
          "data": {
            "text/plain": [
              "Date                         0\n",
              "Rented Bike Count            0\n",
              "Hour                         0\n",
              "Temperature(°C)              0\n",
              "Humidity(%)                  0\n",
              "Wind speed (m/s)             0\n",
              "Visibility (10m)             0\n",
              "Dew point temperature(°C)    0\n",
              "Solar Radiation (MJ/m2)      0\n",
              "Rainfall(mm)                 0\n",
              "Snowfall (cm)                0\n",
              "Seasons                      0\n",
              "Holiday                      0\n",
              "Functioning Day              0\n",
              "dtype: int64"
            ]
          },
          "metadata": {
            "tags": []
          },
          "execution_count": 5
        }
      ]
    },
    {
      "cell_type": "code",
      "metadata": {
        "id": "ig5TOaHemzHm",
        "outputId": "06e6da93-8d7e-4507-ab90-6a4fe8578816",
        "colab": {
          "base_uri": "https://localhost:8080/"
        }
      },
      "source": [
        "for col in df.columns:\n",
        "  print(col, len(df[col].unique()))"
      ],
      "execution_count": null,
      "outputs": [
        {
          "output_type": "stream",
          "text": [
            "Date 365\n",
            "Rented Bike Count 2166\n",
            "Hour 24\n",
            "Temperature(°C) 546\n",
            "Humidity(%) 90\n",
            "Wind speed (m/s) 65\n",
            "Visibility (10m) 1789\n",
            "Dew point temperature(°C) 556\n",
            "Solar Radiation (MJ/m2) 345\n",
            "Rainfall(mm) 61\n",
            "Snowfall (cm) 51\n",
            "Seasons 4\n",
            "Holiday 2\n",
            "Functioning Day 2\n"
          ],
          "name": "stdout"
        }
      ]
    },
    {
      "cell_type": "code",
      "metadata": {
        "id": "9Bw18cDlnXqa"
      },
      "source": [
        "df[\"Holiday\"]=df[\"Holiday\"]==\"Holiday\""
      ],
      "execution_count": null,
      "outputs": []
    },
    {
      "cell_type": "code",
      "metadata": {
        "id": "PqzrGrZZnhdy"
      },
      "source": [
        "df[\"Functioning Day\"]=df[\"Functioning Day\"]==\"Yes\""
      ],
      "execution_count": null,
      "outputs": []
    },
    {
      "cell_type": "code",
      "metadata": {
        "id": "OnHNSFmZnojc"
      },
      "source": [
        "for s in df[\"Seasons\"].unique():\n",
        "  df[\"is_\"+s] = df[\"Seasons\"]==s"
      ],
      "execution_count": null,
      "outputs": []
    },
    {
      "cell_type": "code",
      "metadata": {
        "id": "0husj7aMnzap"
      },
      "source": [
        "df=df.drop([\"Date\", \"Seasons\", \"Dew point temperature(°C)\"], axis=1)"
      ],
      "execution_count": null,
      "outputs": []
    },
    {
      "cell_type": "code",
      "metadata": {
        "id": "505Jbowqn7p7",
        "outputId": "ed80786b-8dfb-4f0f-d8cd-a16ababa6ec4",
        "colab": {
          "base_uri": "https://localhost:8080/",
          "height": 257
        }
      },
      "source": [
        "df.head()"
      ],
      "execution_count": null,
      "outputs": [
        {
          "output_type": "execute_result",
          "data": {
            "text/html": [
              "<div>\n",
              "<style scoped>\n",
              "    .dataframe tbody tr th:only-of-type {\n",
              "        vertical-align: middle;\n",
              "    }\n",
              "\n",
              "    .dataframe tbody tr th {\n",
              "        vertical-align: top;\n",
              "    }\n",
              "\n",
              "    .dataframe thead th {\n",
              "        text-align: right;\n",
              "    }\n",
              "</style>\n",
              "<table border=\"1\" class=\"dataframe\">\n",
              "  <thead>\n",
              "    <tr style=\"text-align: right;\">\n",
              "      <th></th>\n",
              "      <th>Rented Bike Count</th>\n",
              "      <th>Hour</th>\n",
              "      <th>Temperature(°C)</th>\n",
              "      <th>Humidity(%)</th>\n",
              "      <th>Wind speed (m/s)</th>\n",
              "      <th>Visibility (10m)</th>\n",
              "      <th>Solar Radiation (MJ/m2)</th>\n",
              "      <th>Rainfall(mm)</th>\n",
              "      <th>Snowfall (cm)</th>\n",
              "      <th>Holiday</th>\n",
              "      <th>Functioning Day</th>\n",
              "      <th>is_Winter</th>\n",
              "      <th>is_Spring</th>\n",
              "      <th>is_Summer</th>\n",
              "      <th>is_Autumn</th>\n",
              "    </tr>\n",
              "  </thead>\n",
              "  <tbody>\n",
              "    <tr>\n",
              "      <th>0</th>\n",
              "      <td>254</td>\n",
              "      <td>0</td>\n",
              "      <td>-5.2</td>\n",
              "      <td>37</td>\n",
              "      <td>2.2</td>\n",
              "      <td>2000</td>\n",
              "      <td>0.0</td>\n",
              "      <td>0.0</td>\n",
              "      <td>0.0</td>\n",
              "      <td>False</td>\n",
              "      <td>True</td>\n",
              "      <td>True</td>\n",
              "      <td>False</td>\n",
              "      <td>False</td>\n",
              "      <td>False</td>\n",
              "    </tr>\n",
              "    <tr>\n",
              "      <th>1</th>\n",
              "      <td>204</td>\n",
              "      <td>1</td>\n",
              "      <td>-5.5</td>\n",
              "      <td>38</td>\n",
              "      <td>0.8</td>\n",
              "      <td>2000</td>\n",
              "      <td>0.0</td>\n",
              "      <td>0.0</td>\n",
              "      <td>0.0</td>\n",
              "      <td>False</td>\n",
              "      <td>True</td>\n",
              "      <td>True</td>\n",
              "      <td>False</td>\n",
              "      <td>False</td>\n",
              "      <td>False</td>\n",
              "    </tr>\n",
              "    <tr>\n",
              "      <th>2</th>\n",
              "      <td>173</td>\n",
              "      <td>2</td>\n",
              "      <td>-6.0</td>\n",
              "      <td>39</td>\n",
              "      <td>1.0</td>\n",
              "      <td>2000</td>\n",
              "      <td>0.0</td>\n",
              "      <td>0.0</td>\n",
              "      <td>0.0</td>\n",
              "      <td>False</td>\n",
              "      <td>True</td>\n",
              "      <td>True</td>\n",
              "      <td>False</td>\n",
              "      <td>False</td>\n",
              "      <td>False</td>\n",
              "    </tr>\n",
              "    <tr>\n",
              "      <th>3</th>\n",
              "      <td>107</td>\n",
              "      <td>3</td>\n",
              "      <td>-6.2</td>\n",
              "      <td>40</td>\n",
              "      <td>0.9</td>\n",
              "      <td>2000</td>\n",
              "      <td>0.0</td>\n",
              "      <td>0.0</td>\n",
              "      <td>0.0</td>\n",
              "      <td>False</td>\n",
              "      <td>True</td>\n",
              "      <td>True</td>\n",
              "      <td>False</td>\n",
              "      <td>False</td>\n",
              "      <td>False</td>\n",
              "    </tr>\n",
              "    <tr>\n",
              "      <th>4</th>\n",
              "      <td>78</td>\n",
              "      <td>4</td>\n",
              "      <td>-6.0</td>\n",
              "      <td>36</td>\n",
              "      <td>2.3</td>\n",
              "      <td>2000</td>\n",
              "      <td>0.0</td>\n",
              "      <td>0.0</td>\n",
              "      <td>0.0</td>\n",
              "      <td>False</td>\n",
              "      <td>True</td>\n",
              "      <td>True</td>\n",
              "      <td>False</td>\n",
              "      <td>False</td>\n",
              "      <td>False</td>\n",
              "    </tr>\n",
              "  </tbody>\n",
              "</table>\n",
              "</div>"
            ],
            "text/plain": [
              "   Rented Bike Count  Hour  Temperature(°C)  ...  is_Spring  is_Summer  is_Autumn\n",
              "0                254     0             -5.2  ...      False      False      False\n",
              "1                204     1             -5.5  ...      False      False      False\n",
              "2                173     2             -6.0  ...      False      False      False\n",
              "3                107     3             -6.2  ...      False      False      False\n",
              "4                 78     4             -6.0  ...      False      False      False\n",
              "\n",
              "[5 rows x 15 columns]"
            ]
          },
          "metadata": {
            "tags": []
          },
          "execution_count": 11
        }
      ]
    },
    {
      "cell_type": "code",
      "metadata": {
        "id": "MmItaggwoIZ6"
      },
      "source": [
        "df_x = df.drop(\"Rented Bike Count\", axis=1)\n",
        "df_y=df[\"Rented Bike Count\"]\n",
        "data_x = df_x.to_numpy()\n",
        "data_y = df_y.to_numpy()"
      ],
      "execution_count": null,
      "outputs": []
    },
    {
      "cell_type": "code",
      "metadata": {
        "id": "jsDldsreoedg"
      },
      "source": [
        "from sklearn.preprocessing import StandardScaler as SS\n",
        "ss=SS()\n",
        "data_x=ss.fit_transform(data_x)"
      ],
      "execution_count": null,
      "outputs": []
    },
    {
      "cell_type": "code",
      "metadata": {
        "id": "mZaX3Z7EotNd",
        "outputId": "cfe1db61-5c6c-4470-eae8-2a8f0268ffd0",
        "colab": {
          "base_uri": "https://localhost:8080/"
        }
      },
      "source": [
        "data_x"
      ],
      "execution_count": null,
      "outputs": [
        {
          "output_type": "execute_result",
          "data": {
            "text/plain": [
              "array([[-1.66132477, -1.51395724, -1.04248288, ..., -0.58051386,\n",
              "        -0.58051386, -0.57629575],\n",
              "       [-1.51686175, -1.53907415, -0.99336999, ..., -0.58051386,\n",
              "        -0.58051386, -0.57629575],\n",
              "       [-1.37239873, -1.58093567, -0.94425709, ..., -0.58051386,\n",
              "        -0.58051386, -0.57629575],\n",
              "       ...,\n",
              "       [ 1.37239873, -0.86091752, -0.94425709, ..., -0.58051386,\n",
              "        -0.58051386,  1.73522016],\n",
              "       [ 1.51686175, -0.90277904, -0.8460313 , ..., -0.58051386,\n",
              "        -0.58051386,  1.73522016],\n",
              "       [ 1.66132477, -0.91952365, -0.74780551, ..., -0.58051386,\n",
              "        -0.58051386,  1.73522016]])"
            ]
          },
          "metadata": {
            "tags": []
          },
          "execution_count": 14
        }
      ]
    },
    {
      "cell_type": "code",
      "metadata": {
        "id": "mBHvC2ONo_xL"
      },
      "source": [
        "# framework1: Ridge Regression\n",
        "# framework2: NN with one hidden layer"
      ],
      "execution_count": null,
      "outputs": []
    },
    {
      "cell_type": "code",
      "metadata": {
        "id": "Yp4DFJFqpTXp"
      },
      "source": [
        "l=data_x.shape[0]\n",
        "indices = np.random.permutation(l)\n",
        "idx_train, idx_val, idx_test = indices[:int(l*0.7)], indices[int(l*0.7):int(l*0.85)], indices[int(l*0.85):]\n",
        "x_train, x_val, x_test = data_x[idx_train,:], data_x[idx_val,:], data_x[idx_test,:]\n",
        "y_train, y_val, y_test = data_y[idx_train], data_y[idx_val], data_y[idx_test]"
      ],
      "execution_count": null,
      "outputs": []
    },
    {
      "cell_type": "code",
      "metadata": {
        "id": "sHOp90NQ-1Mv"
      },
      "source": [
        "from sklearn.linear_model import Ridge\n",
        "from sklearn.neural_network import MLPRegressor\n",
        "from sklearn.model_selection import RandomizedSearchCV"
      ],
      "execution_count": null,
      "outputs": []
    },
    {
      "cell_type": "code",
      "metadata": {
        "id": "aflvfPsO_i5x"
      },
      "source": [
        "ridge_alpha_vals=[0, 0.1, 0.3, 1, 3, 10, 30, 100, 300, 1000]\n",
        "distributions = dict(alpha=ridge_alpha_vals)"
      ],
      "execution_count": null,
      "outputs": []
    },
    {
      "cell_type": "code",
      "metadata": {
        "id": "tEkBNh1FiDC0"
      },
      "source": [
        "lr=Ridge()\n",
        "clf = RandomizedSearchCV(lr, distributions, random_state=0, cv=5)"
      ],
      "execution_count": null,
      "outputs": []
    },
    {
      "cell_type": "code",
      "metadata": {
        "id": "xrAj5M3piIjw"
      },
      "source": [
        "x_train_main = np.concatenate((x_train, x_val))\n",
        "y_train_main = np.concatenate((y_train, y_val))\n",
        "search = clf.fit(x_train_main, y_train_main)"
      ],
      "execution_count": null,
      "outputs": []
    },
    {
      "cell_type": "code",
      "metadata": {
        "id": "61RoQMVVlMCW",
        "outputId": "c853f810-7c45-4fa9-aacd-c1428bd1f217",
        "colab": {
          "base_uri": "https://localhost:8080/"
        }
      },
      "source": [
        "search.best_params_"
      ],
      "execution_count": null,
      "outputs": [
        {
          "output_type": "execute_result",
          "data": {
            "text/plain": [
              "{'alpha': 10}"
            ]
          },
          "metadata": {
            "tags": []
          },
          "execution_count": 21
        }
      ]
    },
    {
      "cell_type": "code",
      "metadata": {
        "id": "BP0Ci2DtlXUX",
        "outputId": "af585583-7477-4ddc-f3e2-8c74136ed3e2",
        "colab": {
          "base_uri": "https://localhost:8080/"
        }
      },
      "source": [
        "search.score(x_val, y_val)"
      ],
      "execution_count": null,
      "outputs": [
        {
          "output_type": "execute_result",
          "data": {
            "text/plain": [
              "0.5573249502349399"
            ]
          },
          "metadata": {
            "tags": []
          },
          "execution_count": 22
        }
      ]
    },
    {
      "cell_type": "code",
      "metadata": {
        "id": "I2HFTqoAAoJr"
      },
      "source": [
        "nn_hl_sizes=[(i*20,) for i in range(1, 20)]\n",
        "nn_alpha_vals=[0.01, 0.03, 0.1, 0.3, 1, 3]"
      ],
      "execution_count": null,
      "outputs": []
    },
    {
      "cell_type": "code",
      "metadata": {
        "id": "inhVK19ImD8G"
      },
      "source": [
        "distributions = dict(alpha=nn_alpha_vals,\n",
        "                     hidden_layer_sizes=nn_hl_sizes)"
      ],
      "execution_count": null,
      "outputs": []
    },
    {
      "cell_type": "code",
      "metadata": {
        "id": "nVz5Gk_0l7UC"
      },
      "source": [
        "nn=MLPRegressor(tol=1, learning_rate_init=1) # for faster convergence\n",
        "clf = RandomizedSearchCV(nn, distributions, random_state=0, cv=5, n_iter=20)"
      ],
      "execution_count": null,
      "outputs": []
    },
    {
      "cell_type": "code",
      "metadata": {
        "id": "r9UGTn-Kmgh7"
      },
      "source": [
        "search = clf.fit(x_train_main, y_train_main)"
      ],
      "execution_count": null,
      "outputs": []
    },
    {
      "cell_type": "code",
      "metadata": {
        "id": "E5cFh509mkAV",
        "outputId": "8c579291-b5ec-43c8-f281-3d199bfef06b",
        "colab": {
          "base_uri": "https://localhost:8080/"
        }
      },
      "source": [
        "print(search.best_params_)\n",
        "search.score(x_val, y_val)"
      ],
      "execution_count": null,
      "outputs": [
        {
          "output_type": "stream",
          "text": [
            "{'hidden_layer_sizes': (140,), 'alpha': 0.1}\n"
          ],
          "name": "stdout"
        },
        {
          "output_type": "execute_result",
          "data": {
            "text/plain": [
              "0.8371386866965053"
            ]
          },
          "metadata": {
            "tags": []
          },
          "execution_count": 32
        }
      ]
    },
    {
      "cell_type": "markdown",
      "metadata": {
        "id": "VSgTEh5qN8yX"
      },
      "source": [
        "One hidden layer Neural Network performs better\n",
        "\n",
        "The optimal hyperparameters were found to be:\n",
        "\n",
        "  alpha=0.1\n",
        "\n",
        "  hidden_layer_size=140"
      ]
    },
    {
      "cell_type": "code",
      "metadata": {
        "id": "UyEWASf1N6_q",
        "outputId": "95e8f7cf-8276-4d95-cf64-40bb66512ef7",
        "colab": {
          "base_uri": "https://localhost:8080/"
        }
      },
      "source": [
        "search.score(x_test, y_test)"
      ],
      "execution_count": null,
      "outputs": [
        {
          "output_type": "execute_result",
          "data": {
            "text/plain": [
              "0.823498820645469"
            ]
          },
          "metadata": {
            "tags": []
          },
          "execution_count": 33
        }
      ]
    },
    {
      "cell_type": "code",
      "metadata": {
        "id": "6t6bye3Fo87m"
      },
      "source": [
        "y_test_pred=search.predict(x_test)"
      ],
      "execution_count": null,
      "outputs": []
    },
    {
      "cell_type": "code",
      "metadata": {
        "id": "5joZ1yqSeE8f",
        "outputId": "71978edf-b815-4a41-aa63-4f49325fdbc0",
        "colab": {
          "base_uri": "https://localhost:8080/"
        }
      },
      "source": [
        "print(y_test[:10], y_test_pred[:10])\n",
        "mse=np.sum((y_test-y_test_pred)**2)/y_test.shape[0]\n",
        "print(mse)"
      ],
      "execution_count": null,
      "outputs": [
        {
          "output_type": "stream",
          "text": [
            "[ 227  476 2333 1144  486  712 1929  353  267 1235] [ 299.99962489  703.2486672  1790.23887933 1144.83126417  385.68951648\n",
            "  320.75897395 1346.00153988  361.07952352  321.52937985 1229.18138188]\n",
            "74241.10723999186\n"
          ],
          "name": "stdout"
        }
      ]
    },
    {
      "cell_type": "code",
      "metadata": {
        "id": "6d4WoCXPe8xH"
      },
      "source": [
        "# the model is not extremely accurate, but it gives results that roughly match the expected results\n",
        "# we conclude that the model is usable"
      ],
      "execution_count": null,
      "outputs": []
    },
    {
      "cell_type": "code",
      "metadata": {
        "id": "_2se0a0LfZJW"
      },
      "source": [
        ""
      ],
      "execution_count": null,
      "outputs": []
    }
  ]
}