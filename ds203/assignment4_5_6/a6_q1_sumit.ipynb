{
 "cells": [
  {
   "cell_type": "code",
   "execution_count": 12,
   "metadata": {
    "id": "yXD9ubYrQ6wT"
   },
   "outputs": [],
   "source": [
    "import matplotlib.pyplot as plt\n",
    "import numpy as np\n",
    "import seaborn as sns\n",
    "import pandas as pd"
   ]
  },
  {
   "cell_type": "code",
   "execution_count": 13,
   "metadata": {
    "id": "SO50IcPzRNEk"
   },
   "outputs": [],
   "source": [
    "df = pd.read_csv('/content/drive/My Drive/DS203/master.csv')\n",
    "df.drop(columns = ['country-year'],inplace = True)\n",
    "\n",
    "#test for most populous country\n",
    "#print(df[['country','year','population','suicides_no']].loc[df['country']=='Albania'].loc[df['year']==1987])"
   ]
  },
  {
   "cell_type": "code",
   "execution_count": 14,
   "metadata": {
    "colab": {
     "base_uri": "https://localhost:8080/",
     "height": 485
    },
    "id": "vs4GWySoRoZb",
    "outputId": "7f1822ce-7099-404e-99e8-32951ece9ffe"
   },
   "outputs": [
    {
     "data": {
      "text/html": [
       "<div>\n",
       "<style scoped>\n",
       "    .dataframe tbody tr th:only-of-type {\n",
       "        vertical-align: middle;\n",
       "    }\n",
       "\n",
       "    .dataframe tbody tr th {\n",
       "        vertical-align: top;\n",
       "    }\n",
       "\n",
       "    .dataframe thead th {\n",
       "        text-align: right;\n",
       "    }\n",
       "</style>\n",
       "<table border=\"1\" class=\"dataframe\">\n",
       "  <thead>\n",
       "    <tr style=\"text-align: right;\">\n",
       "      <th></th>\n",
       "      <th>country</th>\n",
       "      <th>year</th>\n",
       "      <th>suicides_no</th>\n",
       "      <th>population</th>\n",
       "      <th>suicides/100k pop</th>\n",
       "      <th>HDI for year</th>\n",
       "      <th>gdp_per_capita ($)</th>\n",
       "    </tr>\n",
       "  </thead>\n",
       "  <tbody>\n",
       "    <tr>\n",
       "      <th>0</th>\n",
       "      <td>United States</td>\n",
       "      <td>2015</td>\n",
       "      <td>44189</td>\n",
       "      <td>300078511</td>\n",
       "      <td>175.41</td>\n",
       "      <td>0.000</td>\n",
       "      <td>724644</td>\n",
       "    </tr>\n",
       "    <tr>\n",
       "      <th>1</th>\n",
       "      <td>United States</td>\n",
       "      <td>2014</td>\n",
       "      <td>42769</td>\n",
       "      <td>297749735</td>\n",
       "      <td>171.33</td>\n",
       "      <td>10.980</td>\n",
       "      <td>702372</td>\n",
       "    </tr>\n",
       "    <tr>\n",
       "      <th>2</th>\n",
       "      <td>United States</td>\n",
       "      <td>2013</td>\n",
       "      <td>41143</td>\n",
       "      <td>295322862</td>\n",
       "      <td>166.67</td>\n",
       "      <td>10.956</td>\n",
       "      <td>678240</td>\n",
       "    </tr>\n",
       "    <tr>\n",
       "      <th>3</th>\n",
       "      <td>United States</td>\n",
       "      <td>2012</td>\n",
       "      <td>40596</td>\n",
       "      <td>292827128</td>\n",
       "      <td>165.14</td>\n",
       "      <td>10.944</td>\n",
       "      <td>662040</td>\n",
       "    </tr>\n",
       "    <tr>\n",
       "      <th>4</th>\n",
       "      <td>United States</td>\n",
       "      <td>2011</td>\n",
       "      <td>39508</td>\n",
       "      <td>290313825</td>\n",
       "      <td>162.36</td>\n",
       "      <td>10.932</td>\n",
       "      <td>641424</td>\n",
       "    </tr>\n",
       "    <tr>\n",
       "      <th>...</th>\n",
       "      <td>...</td>\n",
       "      <td>...</td>\n",
       "      <td>...</td>\n",
       "      <td>...</td>\n",
       "      <td>...</td>\n",
       "      <td>...</td>\n",
       "      <td>...</td>\n",
       "    </tr>\n",
       "    <tr>\n",
       "      <th>2316</th>\n",
       "      <td>Saint Kitts and Nevis</td>\n",
       "      <td>1990</td>\n",
       "      <td>0</td>\n",
       "      <td>39100</td>\n",
       "      <td>0.00</td>\n",
       "      <td>0.000</td>\n",
       "      <td>64068</td>\n",
       "    </tr>\n",
       "    <tr>\n",
       "      <th>2317</th>\n",
       "      <td>Saint Kitts and Nevis</td>\n",
       "      <td>1992</td>\n",
       "      <td>0</td>\n",
       "      <td>39100</td>\n",
       "      <td>0.00</td>\n",
       "      <td>0.000</td>\n",
       "      <td>70416</td>\n",
       "    </tr>\n",
       "    <tr>\n",
       "      <th>2318</th>\n",
       "      <td>San Marino</td>\n",
       "      <td>2005</td>\n",
       "      <td>1</td>\n",
       "      <td>28264</td>\n",
       "      <td>34.01</td>\n",
       "      <td>0.000</td>\n",
       "      <td>831612</td>\n",
       "    </tr>\n",
       "    <tr>\n",
       "      <th>2319</th>\n",
       "      <td>San Marino</td>\n",
       "      <td>2000</td>\n",
       "      <td>1</td>\n",
       "      <td>25369</td>\n",
       "      <td>47.26</td>\n",
       "      <td>0.000</td>\n",
       "      <td>521220</td>\n",
       "    </tr>\n",
       "    <tr>\n",
       "      <th>2320</th>\n",
       "      <td>San Marino</td>\n",
       "      <td>1999</td>\n",
       "      <td>2</td>\n",
       "      <td>25192</td>\n",
       "      <td>64.35</td>\n",
       "      <td>0.000</td>\n",
       "      <td>579060</td>\n",
       "    </tr>\n",
       "  </tbody>\n",
       "</table>\n",
       "<p>2321 rows × 7 columns</p>\n",
       "</div>"
      ],
      "text/plain": [
       "                    country  year  ...  HDI for year  gdp_per_capita ($)\n",
       "0             United States  2015  ...         0.000              724644\n",
       "1             United States  2014  ...        10.980              702372\n",
       "2             United States  2013  ...        10.956              678240\n",
       "3             United States  2012  ...        10.944              662040\n",
       "4             United States  2011  ...        10.932              641424\n",
       "...                     ...   ...  ...           ...                 ...\n",
       "2316  Saint Kitts and Nevis  1990  ...         0.000               64068\n",
       "2317  Saint Kitts and Nevis  1992  ...         0.000               70416\n",
       "2318             San Marino  2005  ...         0.000              831612\n",
       "2319             San Marino  2000  ...         0.000              521220\n",
       "2320             San Marino  1999  ...         0.000              579060\n",
       "\n",
       "[2321 rows x 7 columns]"
      ]
     },
     "metadata": {
      "tags": []
     },
     "output_type": "display_data"
    },
    {
     "name": "stdout",
     "output_type": "stream",
     "text": [
      "****************************************************************************************************\n",
      "The ten most populous countries are:\n",
      "['United States' 'Brazil' 'Russian Federation' 'Japan' 'Mexico'\n",
      " 'Philippines' 'Germany' 'Turkey' 'Thailand' 'United Kingdom']\n"
     ]
    }
   ],
   "source": [
    "df2 = df.groupby(['country', 'year'],as_index=False).sum()\n",
    "df2.sort_values(by='population',ascending=False,ignore_index=True,inplace=True)\n",
    "display(df2)\n",
    "print('*'*100)\n",
    "\n",
    "options = df2['country'].unique()[:6]\n",
    "\n",
    "print('The ten most populous countries are:')\n",
    "print(str(df2['country'].unique()[:10]))\n",
    "#print(df2.columns.values)"
   ]
  },
  {
   "cell_type": "code",
   "execution_count": 15,
   "metadata": {
    "colab": {
     "base_uri": "https://localhost:8080/",
     "height": 453
    },
    "id": "13odKf-TPoIo",
    "outputId": "e164f584-8df3-425d-bf6c-192ca6100c6d"
   },
   "outputs": [
    {
     "name": "stdout",
     "output_type": "stream",
     "text": [
      "[1990, 1991, 1992, 1993, 1994, 1995, 1996, 1997, 1998, 1999, 2000, 2001, 2002, 2003, 2004, 2005, 2006, 2007, 2008, 2009, 2010, 2011, 2012, 2013, 2014, 2015]\n"
     ]
    },
    {
     "data": {
      "text/html": [
       "<div>\n",
       "<style scoped>\n",
       "    .dataframe tbody tr th:only-of-type {\n",
       "        vertical-align: middle;\n",
       "    }\n",
       "\n",
       "    .dataframe tbody tr th {\n",
       "        vertical-align: top;\n",
       "    }\n",
       "\n",
       "    .dataframe thead th {\n",
       "        text-align: right;\n",
       "    }\n",
       "</style>\n",
       "<table border=\"1\" class=\"dataframe\">\n",
       "  <thead>\n",
       "    <tr style=\"text-align: right;\">\n",
       "      <th></th>\n",
       "      <th>country</th>\n",
       "      <th>year</th>\n",
       "      <th>suicides_no</th>\n",
       "      <th>population</th>\n",
       "      <th>net/100k</th>\n",
       "    </tr>\n",
       "  </thead>\n",
       "  <tbody>\n",
       "    <tr>\n",
       "      <th>0</th>\n",
       "      <td>Brazil</td>\n",
       "      <td>1990</td>\n",
       "      <td>4803</td>\n",
       "      <td>131387553</td>\n",
       "      <td>3.655597</td>\n",
       "    </tr>\n",
       "    <tr>\n",
       "      <th>1</th>\n",
       "      <td>Brazil</td>\n",
       "      <td>1991</td>\n",
       "      <td>5156</td>\n",
       "      <td>134281850</td>\n",
       "      <td>3.839685</td>\n",
       "    </tr>\n",
       "    <tr>\n",
       "      <th>2</th>\n",
       "      <td>Brazil</td>\n",
       "      <td>1992</td>\n",
       "      <td>5207</td>\n",
       "      <td>137007021</td>\n",
       "      <td>3.800535</td>\n",
       "    </tr>\n",
       "    <tr>\n",
       "      <th>3</th>\n",
       "      <td>Brazil</td>\n",
       "      <td>1993</td>\n",
       "      <td>5508</td>\n",
       "      <td>139615477</td>\n",
       "      <td>3.945121</td>\n",
       "    </tr>\n",
       "    <tr>\n",
       "      <th>4</th>\n",
       "      <td>Brazil</td>\n",
       "      <td>1994</td>\n",
       "      <td>5896</td>\n",
       "      <td>142188450</td>\n",
       "      <td>4.146610</td>\n",
       "    </tr>\n",
       "    <tr>\n",
       "      <th>...</th>\n",
       "      <td>...</td>\n",
       "      <td>...</td>\n",
       "      <td>...</td>\n",
       "      <td>...</td>\n",
       "      <td>...</td>\n",
       "    </tr>\n",
       "    <tr>\n",
       "      <th>151</th>\n",
       "      <td>United States</td>\n",
       "      <td>2011</td>\n",
       "      <td>39508</td>\n",
       "      <td>290313825</td>\n",
       "      <td>13.608722</td>\n",
       "    </tr>\n",
       "    <tr>\n",
       "      <th>152</th>\n",
       "      <td>United States</td>\n",
       "      <td>2012</td>\n",
       "      <td>40596</td>\n",
       "      <td>292827128</td>\n",
       "      <td>13.863470</td>\n",
       "    </tr>\n",
       "    <tr>\n",
       "      <th>153</th>\n",
       "      <td>United States</td>\n",
       "      <td>2013</td>\n",
       "      <td>41143</td>\n",
       "      <td>295322862</td>\n",
       "      <td>13.931532</td>\n",
       "    </tr>\n",
       "    <tr>\n",
       "      <th>154</th>\n",
       "      <td>United States</td>\n",
       "      <td>2014</td>\n",
       "      <td>42769</td>\n",
       "      <td>297749735</td>\n",
       "      <td>14.364077</td>\n",
       "    </tr>\n",
       "    <tr>\n",
       "      <th>155</th>\n",
       "      <td>United States</td>\n",
       "      <td>2015</td>\n",
       "      <td>44189</td>\n",
       "      <td>300078511</td>\n",
       "      <td>14.725813</td>\n",
       "    </tr>\n",
       "  </tbody>\n",
       "</table>\n",
       "<p>156 rows × 5 columns</p>\n",
       "</div>"
      ],
      "text/plain": [
       "           country  year  suicides_no  population   net/100k\n",
       "0           Brazil  1990         4803   131387553   3.655597\n",
       "1           Brazil  1991         5156   134281850   3.839685\n",
       "2           Brazil  1992         5207   137007021   3.800535\n",
       "3           Brazil  1993         5508   139615477   3.945121\n",
       "4           Brazil  1994         5896   142188450   4.146610\n",
       "..             ...   ...          ...         ...        ...\n",
       "151  United States  2011        39508   290313825  13.608722\n",
       "152  United States  2012        40596   292827128  13.863470\n",
       "153  United States  2013        41143   295322862  13.931532\n",
       "154  United States  2014        42769   297749735  14.364077\n",
       "155  United States  2015        44189   300078511  14.725813\n",
       "\n",
       "[156 rows x 5 columns]"
      ]
     },
     "metadata": {
      "tags": []
     },
     "output_type": "display_data"
    }
   ],
   "source": [
    "#philipines doesn't have enough data points\n",
    "options = ['United States','Brazil','Russian Federation','Japan','Mexico','Germany']\n",
    "df2 = df.loc[df['country'].isin(options)]\n",
    "\n",
    "#finding common set of years for all chosen countries\n",
    "years = list(set(df2.loc[df2['country']=='United States']['year'].unique()) and df2.loc[df2['country']=='Brazil']['year'].unique())\n",
    "\n",
    "for x in options[2:]:\n",
    "  years = list(years and df2.loc[df2['country']==x]['year'].unique())\n",
    "\n",
    "print(years)\n",
    "\n",
    "df2 = df2.loc[df2['year'].isin(years)]\n",
    "df2 = df2[['country','year','suicides_no','population']]\n",
    "df2 = df2.groupby(['country','year'],as_index=False).sum()\n",
    "#net suicides per 100k\n",
    "df2['net/100k'] = df2['suicides_no']/df2['population']*1e5\n",
    "display(df2)"
   ]
  },
  {
   "cell_type": "code",
   "execution_count": 16,
   "metadata": {
    "colab": {
     "base_uri": "https://localhost:8080/",
     "height": 121
    },
    "id": "F8_lH8JHd6n2",
    "outputId": "25244c11-3f28-4e59-dc22-4c5f8f7f4580"
   },
   "outputs": [
    {
     "name": "stdout",
     "output_type": "stream",
     "text": [
      "The mean and variance of net suicides/100k for country United States is: 12.71  and  0.88\n",
      "The mean and variance of net suicides/100k for country Brazil is: 4.76  and  0.36\n",
      "The mean and variance of net suicides/100k for country Russian Federation is: 32.88  and  64.30\n",
      "The mean and variance of net suicides/100k for country Japan is: 22.19  and  11.86\n",
      "The mean and variance of net suicides/100k for country Mexico is: 4.13  and  0.62\n",
      "The mean and variance of net suicides/100k for country Germany is: 14.41  and  3.98\n"
     ]
    }
   ],
   "source": [
    "for country in options:\n",
    "  print('The mean and variance of net suicides/100k for country '+country+' is:',end=\" \")\n",
    "  print('%.2f'%(df2.loc[df2['country']==country]['net/100k'].mean())+'  and  '+'%.2f'%(df2.loc[df2['country']==country]['net/100k'].var()))"
   ]
  },
  {
   "cell_type": "code",
   "execution_count": 17,
   "metadata": {
    "colab": {
     "base_uri": "https://localhost:8080/",
     "height": 729
    },
    "id": "6LpG51OHUqTc",
    "outputId": "31f6a7e6-cc09-4141-b62e-9fcafdaa7f8e"
   },
   "outputs": [
    {
     "data": {
      "image/png": "[encoded data removed]",
      "text/plain": [
       "<Figure size 1296x864 with 6 Axes>"
      ]
     },
     "metadata": {
      "tags": []
     },
     "output_type": "display_data"
    }
   ],
   "source": [
    "#displaying suicides for each year separately\n",
    "from scipy.stats import gamma\n",
    "import statsmodels.api as sm \n",
    "\n",
    "plt.style.use('seaborn')\n",
    "fig,ax = plt.subplots(3,2,figsize=(18,12))\n",
    "fig.subplots_adjust(hspace=0.3)\n",
    "\n",
    "for i,x in enumerate(options):\n",
    "  sm.qqplot(data=df2.loc[df2['country']==x]['net/100k'],ax=ax[i//2][i%2],line='s')\n",
    "  ax[i//2][i%2].set_title(x)\n",
    "  #ax[i//2][i%2].set_ylabel()\n",
    "  #ax[i//2][i%2].set_xlabel('years')\n",
    "\n",
    "plt.show()"
   ]
  },
  {
   "cell_type": "code",
   "execution_count": 18,
   "metadata": {
    "colab": {
     "base_uri": "https://localhost:8080/",
     "height": 121
    },
    "id": "p-MrZ_O3cdUX",
    "outputId": "98c636eb-7b10-457e-f14a-1711ae86abc8"
   },
   "outputs": [
    {
     "name": "stdout",
     "output_type": "stream",
     "text": [
      "The log likelihood(compared to a gaussian distribution) of net/100k pop for United States is: -34.69\n",
      "The log likelihood(compared to a gaussian distribution) of net/100k pop for Brazil is: -23.25\n",
      "The log likelihood(compared to a gaussian distribution) of net/100k pop for Russian Federation is: -90.52\n",
      "The log likelihood(compared to a gaussian distribution) of net/100k pop for Japan is: -68.54\n",
      "The log likelihood(compared to a gaussian distribution) of net/100k pop for Mexico is: -30.13\n",
      "The log likelihood(compared to a gaussian distribution) of net/100k pop for Germany is: -54.34\n"
     ]
    }
   ],
   "source": [
    "#log likelihood\n",
    "\n",
    "def gauss_log(x,mean,sigma):\n",
    "  return 1/(np.sqrt(2*np.pi)*sigma)*np.exp(-(x-mean)**2/(2*sigma**2))\n",
    "\n",
    "for country in options:\n",
    "  counter = 1\n",
    "  #print(df2.loc[df2['country']==country])\n",
    "  mean = df2.loc[df2['country']==country]['net/100k'].mean()\n",
    "  sigma = np.sqrt(df2.loc[df2['country']==country]['net/100k'].var())\n",
    "  for x in df2.loc[df2['country']==country]['net/100k']:\n",
    "    counter *= gauss_log(x,mean,sigma)\n",
    "  print('The log likelihood(compared to a gaussian distribution) of net/100k pop for '+country+' is: '+'%.2f'%(np.log(counter)))"
   ]
  },
  {
   "cell_type": "markdown",
   "metadata": {
    "id": "JSEqLieqAzhU"
   },
   "source": [
    "Yes, there is a clear relationship between the log likelihood and the qq plots. The countries for which the qq plot has a straight line(relatively straighter) have a higher log likelihood, whereas in case of deviations the log likelihood decreases."
   ]
  },
  {
   "cell_type": "code",
   "execution_count": 19,
   "metadata": {
    "colab": {
     "base_uri": "https://localhost:8080/",
     "height": 243
    },
    "id": "L_9QgNbPBjBL",
    "outputId": "67261d36-d544-432b-fd92-826580d67528"
   },
   "outputs": [
    {
     "name": "stdout",
     "output_type": "stream",
     "text": [
      "The 95% C.I(Z interval assuming sample variance = variance) for the country United States is: [12.35,13.07]\n",
      "The 95% C.I(Z interval assuming sample variance = variance) for the country Brazil is: [4.52,4.99]\n",
      "The 95% C.I(Z interval assuming sample variance = variance) for the country Russian Federation is: [29.80,35.97]\n",
      "The 95% C.I(Z interval assuming sample variance = variance) for the country Japan is: [20.86,23.51]\n",
      "The 95% C.I(Z interval assuming sample variance = variance) for the country Mexico is: [3.82,4.43]\n",
      "The 95% C.I(Z interval assuming sample variance = variance) for the country Germany is: [13.64,15.17]\n",
      "****************************************************************************************************\n",
      "The 95% C.I(t interval) for the country United States is: [12.33,13.09]\n",
      "The 95% C.I(t interval) for the country Brazil is: [4.51,5.00]\n",
      "The 95% C.I(t interval) for the country Russian Federation is: [29.64,36.12]\n",
      "The 95% C.I(t interval) for the country Japan is: [20.80,23.58]\n",
      "The 95% C.I(t interval) for the country Mexico is: [3.81,4.44]\n",
      "The 95% C.I(t interval) for the country Germany is: [13.60,15.21]\n"
     ]
    }
   ],
   "source": [
    "import scipy.stats as stats\n",
    "for country in options:\n",
    "  print('The 95% C.I(Z interval assuming sample variance = variance) for the country '+country+' is:',end=\" \")\n",
    "  sample_mean = df2.loc[df2['country']==country]['net/100k'].mean()\n",
    "  std = np.sqrt(df2.loc[df2['country']==country]['net/100k'].var())\n",
    "  n = len(list(df2.loc[df2['country']==country]['year']))\n",
    "  lower_bound = sample_mean - stats.norm.ppf(0.975)*(std/(np.sqrt(n)))\n",
    "  upper = sample_mean + stats.norm.ppf(0.975)*(std/(np.sqrt(n)))\n",
    "  print('['+'%.2f'%(lower_bound)+','+'%.2f'%(upper)+']')\n",
    "\n",
    "print('*'*100)\n",
    "for country in options:\n",
    "  print('The 95% C.I(t interval) for the country '+country+' is:',end=\" \")\n",
    "  sample_mean = df2.loc[df2['country']==country]['net/100k'].mean()\n",
    "  std = np.sqrt(df2.loc[df2['country']==country]['net/100k'].var())\n",
    "  n = len(list(df2.loc[df2['country']==country]['year']))\n",
    "  a= df2.loc[df2['country']==country]['net/100k']\n",
    "  inter = stats.t.interval(0.95, len(a)-1, loc=np.mean(a), scale=stats.sem(a))\n",
    "  print('['+'%.2f'%(inter[0])+','+'%.2f'%(inter[1])+']')"
   ]
  },
  {
   "cell_type": "code",
   "execution_count": 31,
   "metadata": {
    "id": "6e2QISHlOlOR"
   },
   "outputs": [],
   "source": [
    "#Taking germany and united states\n",
    "\n",
    "sig_level = 0.05\n",
    "mu1 = df2.loc[df2['country']=='United States']['net/100k'].mean()\n",
    "mu2 = df2.loc[df2['country']=='Germany']['net/100k'].mean()\n",
    "s1 = df2.loc[df2['country']=='United States']['net/100k'].var()\n",
    "s2 = df2.loc[df2['country']=='Germany']['net/100k'].var()\n",
    "n1 = df2.loc[df2['country']=='United States']['net/100k'].shape[0]\n",
    "n2 = df2.loc[df2['country']=='Germany']['net/100k'].shape[0]\n"
   ]
  },
  {
   "cell_type": "code",
   "execution_count": 32,
   "metadata": {
    "id": "cZHAmXH6PemX"
   },
   "outputs": [],
   "source": [
    "# Compute t-value\n",
    "T = (mu1 - mu2) / np.sqrt((s1/n1) + (s2 / n2))\n",
    "\n",
    "#Compute degrees of freedom\n",
    "DoF = np.square((s1/n1) + (s2 / n2)) / (((s1/n1)**2)/(n1-1) + ((s2/n2)**2)/(n2-1)) "
   ]
  },
  {
   "cell_type": "code",
   "execution_count": 36,
   "metadata": {
    "colab": {
     "base_uri": "https://localhost:8080/",
     "height": 69
    },
    "id": "1EEb2XokPjFc",
    "outputId": "77a3facf-b3d5-43b1-f8de-17973bd9f074"
   },
   "outputs": [
    {
     "name": "stdout",
     "output_type": "stream",
     "text": [
      "T : 3.9219085632057786, Critical Value : 0.3528902896589511\n",
      "Null hypothesis is rejected\n",
      "YES\n"
     ]
    }
   ],
   "source": [
    "# Compare t-value and critical value to decide \"Yes\" reject null hypothesis\n",
    "\n",
    "critical_value = stats.t.pdf((1-sig_level)/2,DoF)\n",
    "print('T : {}, Critical Value : {}'.format(np.abs(T),critical_value))\n",
    "if np.abs(T) > critical_value:\n",
    "    print('Null hypothesis is rejected')\n",
    "    print('YES')\n",
    "else:\n",
    "    print('Null hypothesis is not rejected')\n",
    "    print('NO')"
   ]
  },
  {
   "cell_type": "code",
   "execution_count": 28,
   "metadata": {
    "colab": {
     "base_uri": "https://localhost:8080/",
     "height": 52
    },
    "id": "9PQP-eCKQNHz",
    "outputId": "4872378c-7925-4e44-9799-1c854a44bf47"
   },
   "outputs": [
    {
     "name": "stdout",
     "output_type": "stream",
     "text": [
      "w = 56.0 p = 0.002404892089595166\n",
      "The null hypothesis is rejected\n"
     ]
    }
   ],
   "source": [
    "#Wilcoxon's signed rank test\n",
    "\n",
    "from scipy.stats import wilcoxon\n",
    "\n",
    "arr_1  = np.array(df2.loc[df2['country']=='United States']['net/100k'])\n",
    "arr_2 = np.array(df2.loc[df2['country']=='Germany']['net/100k'])\n",
    "\n",
    "w,p = wilcoxon(arr_1-arr_2)\n",
    "print('w = '+str(w)+' p = '+str(p))\n",
    "accepted_val = 0.05\n",
    "\n",
    "if p<=accepted_val:\n",
    "  print('The null hypothesis is rejected')\n",
    "else:\n",
    "  print('We do not have enough evidence to reject the null hypothesis')"
   ]
  },
  {
   "cell_type": "markdown",
   "metadata": {
    "id": "fzbRbw_RSIpZ"
   },
   "source": [
    "We shall find the paired t interval for 95% confidence and in case it doesn't include 0  we can conclude that the two means are actually different."
   ]
  },
  {
   "cell_type": "code",
   "execution_count": 48,
   "metadata": {
    "colab": {
     "base_uri": "https://localhost:8080/",
     "height": 52
    },
    "id": "hegiZ8gOSIU8",
    "outputId": "edfeeb27-d432-4102-de63-67bc8e844235"
   },
   "outputs": [
    {
     "name": "stdout",
     "output_type": "stream",
     "text": [
      "[-1.84 , -1.55]\n",
      "Null hypothesis is rejected\n"
     ]
    }
   ],
   "source": [
    "#note that DoF in this case in n-1s\n",
    "T = stats.t.pdf((1-sig_level)/2,n1-1)\n",
    "\n",
    "sd = np.std(arr_1-arr_2)\n",
    "#note n1 = n2 = 26\n",
    "t_interval =( (mu1-mu2) - T*sd/np.sqrt(n1),(mu1-mu2) + T*sd/np.sqrt(n1))\n",
    "print('['+'%.2f'%(t_interval[0]),\",\",'%.2f'%(t_interval[1])+']')\n",
    "if t_interval[0]*t_interval[1]>0:\n",
    "  print('Null hypothesis is rejected')\n",
    "else:\n",
    "  print('We do not have enough evidence')"
   ]
  },
  {
   "cell_type": "code",
   "execution_count": 30,
   "metadata": {
    "colab": {
     "base_uri": "https://localhost:8080/",
     "height": 35
    },
    "id": "5EsEuWSznpSO",
    "outputId": "6cf728f8-7ff8-47d1-f16b-20be92318b19"
   },
   "outputs": [
    {
     "name": "stdout",
     "output_type": "stream",
     "text": [
      "19456\n"
     ]
    }
   ],
   "source": [
    "#part g corelation\n",
    "\n",
    "df['counter_col'] = np.ones((df.shape[0],1))\n",
    "print(df['HDI for year'].isna().sum())"
   ]
  },
  {
   "cell_type": "markdown",
   "metadata": {
    "id": "xQG3zMUapANC"
   },
   "source": [
    "Since this value is too high it would,t be right to fill it with means or any other method. So we will compute it separately."
   ]
  },
  {
   "cell_type": "code",
   "execution_count": 21,
   "metadata": {
    "colab": {
     "base_uri": "https://localhost:8080/",
     "height": 110
    },
    "id": "aU8DGhpBo_KK",
    "outputId": "d01dcc19-b92c-4207-ce82-99bb78959681"
   },
   "outputs": [
    {
     "data": {
      "text/html": [
       "<div>\n",
       "<style scoped>\n",
       "    .dataframe tbody tr th:only-of-type {\n",
       "        vertical-align: middle;\n",
       "    }\n",
       "\n",
       "    .dataframe tbody tr th {\n",
       "        vertical-align: top;\n",
       "    }\n",
       "\n",
       "    .dataframe thead th {\n",
       "        text-align: right;\n",
       "    }\n",
       "</style>\n",
       "<table border=\"1\" class=\"dataframe\">\n",
       "  <thead>\n",
       "    <tr style=\"text-align: right;\">\n",
       "      <th></th>\n",
       "      <th>net/100k</th>\n",
       "      <th>gdp_per_capita ($)</th>\n",
       "    </tr>\n",
       "  </thead>\n",
       "  <tbody>\n",
       "    <tr>\n",
       "      <th>net/100k</th>\n",
       "      <td>1.000000</td>\n",
       "      <td>0.060367</td>\n",
       "    </tr>\n",
       "    <tr>\n",
       "      <th>gdp_per_capita ($)</th>\n",
       "      <td>0.060367</td>\n",
       "      <td>1.000000</td>\n",
       "    </tr>\n",
       "  </tbody>\n",
       "</table>\n",
       "</div>"
      ],
      "text/plain": [
       "                    net/100k  gdp_per_capita ($)\n",
       "net/100k            1.000000            0.060367\n",
       "gdp_per_capita ($)  0.060367            1.000000"
      ]
     },
     "execution_count": 21,
     "metadata": {
      "tags": []
     },
     "output_type": "execute_result"
    }
   ],
   "source": [
    "df3 = df.groupby(['country','year']).sum()\n",
    "#since gdp cannot be summed, we divide it by number of years over which it is summed(athough while calculating corealtion it wouldn't matter)\n",
    "df3['gdp_per_capita ($)'] = df3['gdp_per_capita ($)']/df3['counter_col']\n",
    "df3['net/100k'] = df3['suicides_no']/df3['population']*1e5\n",
    "df3 = df3[['net/100k','gdp_per_capita ($)']]\n",
    "df3.corr()"
   ]
  },
  {
   "cell_type": "markdown",
   "metadata": {
    "id": "rKnixuFQqtj8"
   },
   "source": [
    "Clearly gdp per capita and average rate of suicides doesn't seem to be related as their corelation is only 0.06"
   ]
  },
  {
   "cell_type": "code",
   "execution_count": 22,
   "metadata": {
    "colab": {
     "base_uri": "https://localhost:8080/",
     "height": 110
    },
    "id": "nYQiY6z5q5tY",
    "outputId": "32145e7e-0cd1-4ff2-a3ce-363166218b33"
   },
   "outputs": [
    {
     "data": {
      "text/html": [
       "<div>\n",
       "<style scoped>\n",
       "    .dataframe tbody tr th:only-of-type {\n",
       "        vertical-align: middle;\n",
       "    }\n",
       "\n",
       "    .dataframe tbody tr th {\n",
       "        vertical-align: top;\n",
       "    }\n",
       "\n",
       "    .dataframe thead th {\n",
       "        text-align: right;\n",
       "    }\n",
       "</style>\n",
       "<table border=\"1\" class=\"dataframe\">\n",
       "  <thead>\n",
       "    <tr style=\"text-align: right;\">\n",
       "      <th></th>\n",
       "      <th>HDI for year</th>\n",
       "      <th>suicides_no</th>\n",
       "    </tr>\n",
       "  </thead>\n",
       "  <tbody>\n",
       "    <tr>\n",
       "      <th>HDI for year</th>\n",
       "      <td>1.000000</td>\n",
       "      <td>0.222438</td>\n",
       "    </tr>\n",
       "    <tr>\n",
       "      <th>suicides_no</th>\n",
       "      <td>0.222438</td>\n",
       "      <td>1.000000</td>\n",
       "    </tr>\n",
       "  </tbody>\n",
       "</table>\n",
       "</div>"
      ],
      "text/plain": [
       "              HDI for year  suicides_no\n",
       "HDI for year      1.000000     0.222438\n",
       "suicides_no       0.222438     1.000000"
      ]
     },
     "execution_count": 22,
     "metadata": {
      "tags": []
     },
     "output_type": "execute_result"
    }
   ],
   "source": [
    "df['counter_col'] = np.ones((df.shape[0],1))\n",
    "df4 = df.dropna(axis=0)\n",
    "df4 = df4.groupby(['country','year']).sum()\n",
    "#since HDI cannot be summed, we divide it by number of years over which it is summed(athough while calculating coreltion it wouldn't matter)\n",
    "df4['HDI for year'] = df4['HDI for year']/df4['counter_col']\n",
    "df4 = df4[['HDI for year','suicides_no']]\n",
    "df4.corr()"
   ]
  },
  {
   "cell_type": "markdown",
   "metadata": {
    "id": "bNwoBFq5saNt"
   },
   "source": [
    "The corealtion coeffecient is ~0.22 which doesn't show strong corelation, however HDI is relatively more corelated to the suicides_no compared to the gdp per capita. "
   ]
  }
 ],
 "metadata": {
  "colab": {
   "collapsed_sections": [],
   "name": "Assignment_6.ipynb",
   "provenance": []
  },
  "kernelspec": {
   "display_name": "Python 3",
   "language": "python",
   "name": "python3"
  },
  "language_info": {
   "codemirror_mode": {
    "name": "ipython",
    "version": 3
   },
   "file_extension": ".py",
   "mimetype": "text/x-python",
   "name": "python",
   "nbconvert_exporter": "python",
   "pygments_lexer": "ipython3",
   "version": "3.8.2"
  }
 },
 "nbformat": 4,
 "nbformat_minor": 1
}
